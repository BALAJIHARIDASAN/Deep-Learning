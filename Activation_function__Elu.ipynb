{
  "cells": [
    {
      "cell_type": "markdown",
      "metadata": {
        "colab_type": "text",
        "id": "view-in-github"
      },
      "source": [
        "<a href=\"https://colab.research.google.com/github/BALAJIHARIDASAN/Deep-Learning/blob/main/Activation_function_leaky_Elu.ipynb\" target=\"_parent\"><img src=\"https://colab.research.google.com/assets/colab-badge.svg\" alt=\"Open In Colab\"/></a>"
      ]
    },
    {
      "cell_type": "code",
      "execution_count": 4,
      "metadata": {
        "id": "lAzLpbP_QUSh"
      },
      "outputs": [],
      "source": [
        "#Activation function - It brings non linearity to the model\n",
        "\n",
        "# Types\n",
        "\n",
        "#sigmoid\n",
        "# tanh\n",
        "# relu\n",
        "# leaky relu\n",
        "# elu\n",
        "# prelu\n",
        "# selu\n",
        "# softmax\n"
      ]
    },
    {
      "cell_type": "code",
      "execution_count": 5,
      "metadata": {
        "id": "xLweSNVuQdfA"
      },
      "outputs": [],
      "source": [
        "import numpy as np\n",
        "import tensorflow as tf\n",
        "import matplotlib.pyplot as plt\n",
        "import seaborn as seaborn\n",
        "import os"
      ]
    },
    {
      "cell_type": "code",
      "execution_count": 6,
      "metadata": {
        "id": "vvs6Rx30aU5w"
      },
      "outputs": [],
      "source": [
        "x = np.linspace(-10,10,100)"
      ]
    },
    {
      "cell_type": "code",
      "execution_count": 7,
      "metadata": {
        "colab": {
          "base_uri": "https://localhost:8080/"
        },
        "id": "hqdkvoaLaYkg",
        "outputId": "6194c7f0-0691-4fed-aca0-41ed15f38654"
      },
      "outputs": [
        {
          "data": {
            "text/plain": [
              "array([-10.        ,  -9.7979798 ,  -9.5959596 ,  -9.39393939,\n",
              "        -9.19191919,  -8.98989899,  -8.78787879,  -8.58585859,\n",
              "        -8.38383838,  -8.18181818,  -7.97979798,  -7.77777778,\n",
              "        -7.57575758,  -7.37373737,  -7.17171717,  -6.96969697,\n",
              "        -6.76767677,  -6.56565657,  -6.36363636,  -6.16161616,\n",
              "        -5.95959596,  -5.75757576,  -5.55555556,  -5.35353535,\n",
              "        -5.15151515,  -4.94949495,  -4.74747475,  -4.54545455,\n",
              "        -4.34343434,  -4.14141414,  -3.93939394,  -3.73737374,\n",
              "        -3.53535354,  -3.33333333,  -3.13131313,  -2.92929293,\n",
              "        -2.72727273,  -2.52525253,  -2.32323232,  -2.12121212,\n",
              "        -1.91919192,  -1.71717172,  -1.51515152,  -1.31313131,\n",
              "        -1.11111111,  -0.90909091,  -0.70707071,  -0.50505051,\n",
              "        -0.3030303 ,  -0.1010101 ,   0.1010101 ,   0.3030303 ,\n",
              "         0.50505051,   0.70707071,   0.90909091,   1.11111111,\n",
              "         1.31313131,   1.51515152,   1.71717172,   1.91919192,\n",
              "         2.12121212,   2.32323232,   2.52525253,   2.72727273,\n",
              "         2.92929293,   3.13131313,   3.33333333,   3.53535354,\n",
              "         3.73737374,   3.93939394,   4.14141414,   4.34343434,\n",
              "         4.54545455,   4.74747475,   4.94949495,   5.15151515,\n",
              "         5.35353535,   5.55555556,   5.75757576,   5.95959596,\n",
              "         6.16161616,   6.36363636,   6.56565657,   6.76767677,\n",
              "         6.96969697,   7.17171717,   7.37373737,   7.57575758,\n",
              "         7.77777778,   7.97979798,   8.18181818,   8.38383838,\n",
              "         8.58585859,   8.78787879,   8.98989899,   9.19191919,\n",
              "         9.39393939,   9.5959596 ,   9.7979798 ,  10.        ])"
            ]
          },
          "execution_count": 7,
          "metadata": {},
          "output_type": "execute_result"
        }
      ],
      "source": [
        "x"
      ]
    },
    {
      "cell_type": "code",
      "execution_count": 8,
      "metadata": {
        "colab": {
          "base_uri": "https://localhost:8080/"
        },
        "id": "aXc57NGSaZPg",
        "outputId": "9302831a-476f-4561-c26c-6231a0874e99"
      },
      "outputs": [
        {
          "data": {
            "text/plain": [
              "100"
            ]
          },
          "execution_count": 8,
          "metadata": {},
          "output_type": "execute_result"
        }
      ],
      "source": [
        "len(x)"
      ]
    },
    {
      "cell_type": "code",
      "execution_count": 18,
      "metadata": {
        "id": "HM0Dqgt1ab8Q"
      },
      "outputs": [],
      "source": [
        "def derivative(f, x, delta_x=1e-6):\n",
        "    return (f(x + delta_x) - f(x))/(delta_x)\n",
        "\n",
        "def plot_graph(x, f,\n",
        "               ALPHA=0.6, \n",
        "               label_x = r\"$x \\rightarrow$\", label_y=r\"$act(x), act'(x) \\rightarrow$\", \n",
        "               title=None,\n",
        "               LABEL_Y=None,\n",
        "               LABEL_Y_DASH=None,\n",
        "               filepath_of_plot=\"plot.png\"):\n",
        "    y = f(x)\n",
        "    y_dash = derivative(f, x)\n",
        "    plt.figure(figsize=(10,8))\n",
        "    plt.axhline(y=0, color=\"black\", linestyle=\"--\", lw=2)\n",
        "    plt.axvline(x=0, color=\"black\", linestyle=\"--\", lw=2)\n",
        "    plt.xlabel(label_x)\n",
        "    plt.ylabel(label_y)\n",
        "    plt.title(title)\n",
        "\n",
        "    if (LABEL_Y != None) and (LABEL_Y_DASH != None):\n",
        "        plt.plot(x, y, alpha=ALPHA, label=LABEL_Y)\n",
        "        plt.plot(x, y_dash, alpha=ALPHA, label=LABEL_Y_DASH)\n",
        "        plt.legend(fontsize=14)\n",
        "\n",
        "    else:\n",
        "        plt.plot(x, y, alpha=ALPHA)\n",
        "        plt.plot(x, y_dash, alpha=ALPHA)\n",
        "\n",
        "    plt.savefig(filepath_of_plot)\n",
        "      \n",
        "\n"
      ]
    },
    {
      "cell_type": "code",
      "execution_count": 21,
      "metadata": {
        "id": "4rH5vgQnc1aL"
      },
      "outputs": [],
      "source": [
        "root_plot_dir = \"root\"\n",
        "os.makedirs(root_plot_dir, exist_ok=True)\n"
      ]
    },
    {
      "cell_type": "code",
      "execution_count": 31,
      "metadata": {
        "id": "7xQJWt2Tf0-6"
      },
      "outputs": [],
      "source": [
        "def elu(x, ALPHA=1.0):\n",
        "    return tf.keras.activations.elu(x, alpha=ALPHA)"
      ]
    },
    {
      "cell_type": "code",
      "execution_count": 32,
      "metadata": {
        "colab": {
          "base_uri": "https://localhost:8080/",
          "height": 513
        },
        "id": "k6wfT0gegIIM",
        "outputId": "3c34ed30-cab3-40a7-b496-9b8f043d37cf"
      },
      "outputs": [
        {
          "data": {
            "image/png": "[encoded data removed]",
            "text/plain": [
              "<Figure size 720x576 with 1 Axes>"
            ]
          },
          "metadata": {
            "needs_background": "light"
          },
          "output_type": "display_data"
        }
      ],
      "source": [
        "def plot_elu(x, path):\n",
        "    plot_graph(x, f=elu, title=\"ELU\", \n",
        "            LABEL_Y=r\"$ELU(x)$\", \n",
        "            LABEL_Y_DASH=r\"$ELU^\\prime(x)$\", \n",
        "            filepath_of_plot=path)\n",
        "\n",
        "plot_elu(x, os.path.join(root_plot_dir, \"ELU\"))"
      ]
    },
    {
      "cell_type": "markdown",
      "metadata": {
        "id": "nzt7vXkngNDp"
      },
      "source": [
        "\n",
        "ELU is also proposed to solve the problems of ReLU. Obviously, ELU has all the advantages of ReLU, and:\n",
        "\n",
        "* No Dead ReLU issues\n",
        "* The mean of the output is close to 0, zero-centered\n",
        "\n",
        "One small problem is that it is slightly more computationally intensive. Similar to Leaky ReLU, although theoretically better than ReLU, there is currently no good evidence in practice that ELU is always better than ReLU."
      ]
    },
    {
      "cell_type": "code",
      "execution_count": null,
      "metadata": {
        "id": "EjTpAiTvgKlr"
      },
      "outputs": [],
      "source": []
    }
  ],
  "metadata": {
    "colab": {
      "authorship_tag": "ABX9TyNTBdNtpMPJukM8lGt/DWmE",
      "include_colab_link": true,
      "provenance": []
    },
    "kernelspec": {
      "display_name": "Python 3",
      "name": "python3"
    },
    "language_info": {
      "name": "python"
    }
  },
  "nbformat": 4,
  "nbformat_minor": 0
}

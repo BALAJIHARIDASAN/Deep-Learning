{
  "nbformat": 4,
  "nbformat_minor": 0,
  "metadata": {
    "colab": {
      "provenance": [],
      "authorship_tag": "ABX9TyNKtnXy+0v+PIfCwMx2BkAt",
      "include_colab_link": true
    },
    "kernelspec": {
      "name": "python3",
      "display_name": "Python 3"
    },
    "language_info": {
      "name": "python"
    },
    "accelerator": "GPU",
    "gpuClass": "standard"
  },
  "cells": [
    {
      "cell_type": "markdown",
      "metadata": {
        "id": "view-in-github",
        "colab_type": "text"
      },
      "source": [
        "<a href=\"https://colab.research.google.com/github/BALAJIHARIDASAN/Deep-Learning/blob/main/Artificial_neural_network_using_Batch_Normalization.ipynb\" target=\"_parent\"><img src=\"https://colab.research.google.com/assets/colab-badge.svg\" alt=\"Open In Colab\"/></a>"
      ]
    },
    {
      "cell_type": "code",
      "execution_count": 1,
      "metadata": {
        "id": "VsFBHZjH0jtu"
      },
      "outputs": [],
      "source": [
        "import tensorflow as tf\n"
      ]
    },
    {
      "cell_type": "code",
      "source": [
        "\n",
        "import numpy as np\n",
        "import matplotlib.pyplot as plt\n",
        "import pandas as pd"
      ],
      "metadata": {
        "id": "r5g2qdLU00s5"
      },
      "execution_count": 2,
      "outputs": []
    },
    {
      "cell_type": "code",
      "source": [
        "\n",
        "\n",
        "fashion = tf.keras.datasets.fashion_mnist"
      ],
      "metadata": {
        "id": "DXb3Fosc0_nI"
      },
      "execution_count": 3,
      "outputs": []
    },
    {
      "cell_type": "code",
      "source": [
        "\n",
        "(X_train,y_train),(X_test,y_test) = fashion.load_data()"
      ],
      "metadata": {
        "colab": {
          "base_uri": "https://localhost:8080/"
        },
        "id": "VRnSi2oX1E73",
        "outputId": "d9ca6c44-3d76-42bf-b659-07433f77bccd"
      },
      "execution_count": 4,
      "outputs": [
        {
          "output_type": "stream",
          "name": "stdout",
          "text": [
            "Downloading data from https://storage.googleapis.com/tensorflow/tf-keras-datasets/train-labels-idx1-ubyte.gz\n",
            "29515/29515 [==============================] - 0s 0us/step\n",
            "Downloading data from https://storage.googleapis.com/tensorflow/tf-keras-datasets/train-images-idx3-ubyte.gz\n",
            "26421880/26421880 [==============================] - 1s 0us/step\n",
            "Downloading data from https://storage.googleapis.com/tensorflow/tf-keras-datasets/t10k-labels-idx1-ubyte.gz\n",
            "5148/5148 [==============================] - 0s 0us/step\n",
            "Downloading data from https://storage.googleapis.com/tensorflow/tf-keras-datasets/t10k-images-idx3-ubyte.gz\n",
            "4422102/4422102 [==============================] - 0s 0us/step\n"
          ]
        }
      ]
    },
    {
      "cell_type": "code",
      "source": [
        "\n",
        "X_valid,X_train = X_train[:5000]/255,X_train[5000:]/255\n"
      ],
      "metadata": {
        "id": "EzhClZR71GZX"
      },
      "execution_count": 5,
      "outputs": []
    },
    {
      "cell_type": "code",
      "source": [
        "\n",
        "y_valid,y_train= y_train[:5000],y_train[5000:]\n",
        "     "
      ],
      "metadata": {
        "id": "bdiO9GsM1L44"
      },
      "execution_count": 6,
      "outputs": []
    },
    {
      "cell_type": "code",
      "source": [
        "\n",
        "X_test = X_test/255"
      ],
      "metadata": {
        "id": "1T1jVFef1NTo"
      },
      "execution_count": 7,
      "outputs": []
    },
    {
      "cell_type": "code",
      "source": [
        "\n",
        "\n",
        "plt.imshow(X_train[5],cmap = 'binary')\n",
        "plt.show()"
      ],
      "metadata": {
        "colab": {
          "base_uri": "https://localhost:8080/",
          "height": 265
        },
        "id": "aKMFmVco1OxY",
        "outputId": "78567f92-3bef-4ecc-9f80-c63549805ec4"
      },
      "execution_count": 8,
      "outputs": [
        {
          "output_type": "display_data",
          "data": {
            "text/plain": [
              "<Figure size 432x288 with 1 Axes>"
            ],
            "image/png": "[encoded data removed]"
          },
          "metadata": {
            "needs_background": "light"
          }
        }
      ]
    },
    {
      "cell_type": "code",
      "source": [
        "\n",
        "import seaborn as sns\n",
        "plt.figure(figsize = (15,15))\n",
        "sns.heatmap(X_train[5],annot = True)\n",
        "plt.show()"
      ],
      "metadata": {
        "colab": {
          "base_uri": "https://localhost:8080/",
          "height": 867
        },
        "id": "ZcZXLOnI1QGI",
        "outputId": "74ce692e-0853-45ff-9b58-295651839897"
      },
      "execution_count": 9,
      "outputs": [
        {
          "output_type": "display_data",
          "data": {
            "text/plain": [
              "<Figure size 1080x1080 with 2 Axes>"
            ],
            "image/png": "[encoded data removed]"
          },
          "metadata": {
            "needs_background": "light"
          }
        }
      ]
    },
    {
      "cell_type": "code",
      "source": [
        "\n",
        "# simple Ann Model \n",
        "\n",
        "from tensorflow.keras.layers import Dense,Flatten\n",
        "from tensorflow.keras.models import Sequential"
      ],
      "metadata": {
        "id": "RLLBCYG41R_n"
      },
      "execution_count": 10,
      "outputs": []
    },
    {
      "cell_type": "code",
      "source": [
        "\n",
        "\n",
        "model = Sequential()\n",
        "model.add(Flatten(input_shape = [28,28]))\n",
        "model.add(Dense(300,activation = 'relu'))\n",
        "model.add(Dense(100,activation = 'relu'))\n",
        "model.add(Dense(10,activation = 'softmax'))\n",
        "model.summary()\n",
        "     "
      ],
      "metadata": {
        "colab": {
          "base_uri": "https://localhost:8080/"
        },
        "id": "xAB-11mq1UW4",
        "outputId": "0ad6b77d-bb93-4d3a-e6d9-47be622f7fc9"
      },
      "execution_count": 11,
      "outputs": [
        {
          "output_type": "stream",
          "name": "stdout",
          "text": [
            "Model: \"sequential\"\n",
            "_________________________________________________________________\n",
            " Layer (type)                Output Shape              Param #   \n",
            "=================================================================\n",
            " flatten (Flatten)           (None, 784)               0         \n",
            "                                                                 \n",
            " dense (Dense)               (None, 300)               235500    \n",
            "                                                                 \n",
            " dense_1 (Dense)             (None, 100)               30100     \n",
            "                                                                 \n",
            " dense_2 (Dense)             (None, 10)                1010      \n",
            "                                                                 \n",
            "=================================================================\n",
            "Total params: 266,610\n",
            "Trainable params: 266,610\n",
            "Non-trainable params: 0\n",
            "_________________________________________________________________\n"
          ]
        }
      ]
    },
    {
      "cell_type": "code",
      "source": [
        "\n",
        "\n",
        "model.layers"
      ],
      "metadata": {
        "colab": {
          "base_uri": "https://localhost:8080/"
        },
        "id": "gOb1wzNg1ZGI",
        "outputId": "2f72e867-7598-4d09-9a6e-561bc294ad31"
      },
      "execution_count": 12,
      "outputs": [
        {
          "output_type": "execute_result",
          "data": {
            "text/plain": [
              "[<keras.layers.reshaping.flatten.Flatten at 0x7f9a719e4c40>,\n",
              " <keras.layers.core.dense.Dense at 0x7f9a719e4e50>,\n",
              " <keras.layers.core.dense.Dense at 0x7f9a71988d00>,\n",
              " <keras.layers.core.dense.Dense at 0x7f9a719e40a0>]"
            ]
          },
          "metadata": {},
          "execution_count": 12
        }
      ]
    },
    {
      "cell_type": "code",
      "source": [
        "\n",
        "LOSS_FUNCTION = 'sparse_categorical_crossentropy'\n",
        "OPTIMIZERS = 'SGD'\n",
        "METRICS = ['accuracy']\n",
        "     "
      ],
      "metadata": {
        "id": "JNebCxMu1a6I"
      },
      "execution_count": 13,
      "outputs": []
    },
    {
      "cell_type": "code",
      "source": [
        "\n",
        "\n",
        "from tensorflow._api.v2.config import optimizer\n",
        "model.compile(loss = LOSS_FUNCTION,optimizer= OPTIMIZERS,metrics = METRICS)\n"
      ],
      "metadata": {
        "id": "N4oG6VC41crI"
      },
      "execution_count": 14,
      "outputs": []
    },
    {
      "cell_type": "code",
      "source": [
        "\n",
        "\n",
        "EPOCHS = 20\n",
        "VALIDATION_SET= (X_valid,y_valid)\n",
        "\n",
        "history = model.fit(X_train,y_train,epochs = EPOCHS,validation_data = VALIDATION_SET)"
      ],
      "metadata": {
        "colab": {
          "base_uri": "https://localhost:8080/"
        },
        "id": "ByOIIIEr1eUI",
        "outputId": "4ae440b4-3309-4b68-dff0-d7d2863ec77c"
      },
      "execution_count": 15,
      "outputs": [
        {
          "output_type": "stream",
          "name": "stdout",
          "text": [
            "Epoch 1/20\n",
            "1719/1719 [==============================] - 7s 3ms/step - loss: 0.7137 - accuracy: 0.7668 - val_loss: 0.5058 - val_accuracy: 0.8286\n",
            "Epoch 2/20\n",
            "1719/1719 [==============================] - 5s 3ms/step - loss: 0.4864 - accuracy: 0.8313 - val_loss: 0.4577 - val_accuracy: 0.8390\n",
            "Epoch 3/20\n",
            "1719/1719 [==============================] - 5s 3ms/step - loss: 0.4425 - accuracy: 0.8451 - val_loss: 0.4233 - val_accuracy: 0.8556\n",
            "Epoch 4/20\n",
            "1719/1719 [==============================] - 5s 3ms/step - loss: 0.4155 - accuracy: 0.8530 - val_loss: 0.4042 - val_accuracy: 0.8658\n",
            "Epoch 5/20\n",
            "1719/1719 [==============================] - 5s 3ms/step - loss: 0.3956 - accuracy: 0.8604 - val_loss: 0.4012 - val_accuracy: 0.8624\n",
            "Epoch 6/20\n",
            "1719/1719 [==============================] - 5s 3ms/step - loss: 0.3790 - accuracy: 0.8647 - val_loss: 0.3799 - val_accuracy: 0.8684\n",
            "Epoch 7/20\n",
            "1719/1719 [==============================] - 5s 3ms/step - loss: 0.3659 - accuracy: 0.8705 - val_loss: 0.3615 - val_accuracy: 0.8742\n",
            "Epoch 8/20\n",
            "1719/1719 [==============================] - 5s 3ms/step - loss: 0.3551 - accuracy: 0.8731 - val_loss: 0.3574 - val_accuracy: 0.8770\n",
            "Epoch 9/20\n",
            "1719/1719 [==============================] - 5s 3ms/step - loss: 0.3432 - accuracy: 0.8768 - val_loss: 0.3563 - val_accuracy: 0.8798\n",
            "Epoch 10/20\n",
            "1719/1719 [==============================] - 5s 3ms/step - loss: 0.3358 - accuracy: 0.8784 - val_loss: 0.3404 - val_accuracy: 0.8800\n",
            "Epoch 11/20\n",
            "1719/1719 [==============================] - 5s 3ms/step - loss: 0.3261 - accuracy: 0.8826 - val_loss: 0.3349 - val_accuracy: 0.8798\n",
            "Epoch 12/20\n",
            "1719/1719 [==============================] - 5s 3ms/step - loss: 0.3184 - accuracy: 0.8863 - val_loss: 0.3373 - val_accuracy: 0.8862\n",
            "Epoch 13/20\n",
            "1719/1719 [==============================] - 5s 3ms/step - loss: 0.3109 - accuracy: 0.8884 - val_loss: 0.3271 - val_accuracy: 0.8846\n",
            "Epoch 14/20\n",
            "1719/1719 [==============================] - 5s 3ms/step - loss: 0.3050 - accuracy: 0.8902 - val_loss: 0.3198 - val_accuracy: 0.8880\n",
            "Epoch 15/20\n",
            "1719/1719 [==============================] - 5s 3ms/step - loss: 0.2982 - accuracy: 0.8927 - val_loss: 0.3231 - val_accuracy: 0.8846\n",
            "Epoch 16/20\n",
            "1719/1719 [==============================] - 5s 3ms/step - loss: 0.2918 - accuracy: 0.8946 - val_loss: 0.3147 - val_accuracy: 0.8882\n",
            "Epoch 17/20\n",
            "1719/1719 [==============================] - 5s 3ms/step - loss: 0.2861 - accuracy: 0.8965 - val_loss: 0.3149 - val_accuracy: 0.8904\n",
            "Epoch 18/20\n",
            "1719/1719 [==============================] - 5s 3ms/step - loss: 0.2803 - accuracy: 0.8993 - val_loss: 0.3077 - val_accuracy: 0.8910\n",
            "Epoch 19/20\n",
            "1719/1719 [==============================] - 5s 3ms/step - loss: 0.2740 - accuracy: 0.9013 - val_loss: 0.3233 - val_accuracy: 0.8854\n",
            "Epoch 20/20\n",
            "1719/1719 [==============================] - 5s 3ms/step - loss: 0.2698 - accuracy: 0.9030 - val_loss: 0.3088 - val_accuracy: 0.8946\n"
          ]
        }
      ]
    },
    {
      "cell_type": "code",
      "source": [
        "model.evaluate(X_test, y_test)"
      ],
      "metadata": {
        "colab": {
          "base_uri": "https://localhost:8080/"
        },
        "id": "y9VD8fv91sT3",
        "outputId": "1c76c57e-0eed-4113-8102-7becaef8cb2e"
      },
      "execution_count": 16,
      "outputs": [
        {
          "output_type": "stream",
          "name": "stdout",
          "text": [
            "313/313 [==============================] - 1s 4ms/step - loss: 0.3412 - accuracy: 0.8779\n"
          ]
        },
        {
          "output_type": "execute_result",
          "data": {
            "text/plain": [
              "[0.3412156403064728, 0.8779000043869019]"
            ]
          },
          "metadata": {},
          "execution_count": 16
        }
      ]
    },
    {
      "cell_type": "code",
      "source": [
        "pd.DataFrame(history.history)"
      ],
      "metadata": {
        "colab": {
          "base_uri": "https://localhost:8080/",
          "height": 676
        },
        "id": "hhXY38he2ZCX",
        "outputId": "2e4a4cac-3dce-47be-8f86-464a41f3b68f"
      },
      "execution_count": 17,
      "outputs": [
        {
          "output_type": "execute_result",
          "data": {
            "text/plain": [
              "        loss  accuracy  val_loss  val_accuracy\n",
              "0   0.713718  0.766800  0.505805        0.8286\n",
              "1   0.486358  0.831309  0.457718        0.8390\n",
              "2   0.442509  0.845145  0.423265        0.8556\n",
              "3   0.415537  0.852982  0.404183        0.8658\n",
              "4   0.395581  0.860400  0.401164        0.8624\n",
              "5   0.378980  0.864691  0.379921        0.8684\n",
              "6   0.365949  0.870509  0.361530        0.8742\n",
              "7   0.355068  0.873091  0.357424        0.8770\n",
              "8   0.343169  0.876800  0.356333        0.8798\n",
              "9   0.335825  0.878436  0.340368        0.8800\n",
              "10  0.326121  0.882564  0.334863        0.8798\n",
              "11  0.318397  0.886345  0.337297        0.8862\n",
              "12  0.310882  0.888382  0.327135        0.8846\n",
              "13  0.305023  0.890182  0.319821        0.8880\n",
              "14  0.298168  0.892655  0.323114        0.8846\n",
              "15  0.291804  0.894600  0.314689        0.8882\n",
              "16  0.286117  0.896455  0.314853        0.8904\n",
              "17  0.280313  0.899309  0.307701        0.8910\n",
              "18  0.274011  0.901327  0.323291        0.8854\n",
              "19  0.269762  0.902982  0.308796        0.8946"
            ],
            "text/html": [
              "\n",
              "  <div id=\"df-4cce2108-57a7-434f-917c-4c6a76a126c1\">\n",
              "    <div class=\"colab-df-container\">\n",
              "      <div>\n",
              "<style scoped>\n",
              "    .dataframe tbody tr th:only-of-type {\n",
              "        vertical-align: middle;\n",
              "    }\n",
              "\n",
              "    .dataframe tbody tr th {\n",
              "        vertical-align: top;\n",
              "    }\n",
              "\n",
              "    .dataframe thead th {\n",
              "        text-align: right;\n",
              "    }\n",
              "</style>\n",
              "<table border=\"1\" class=\"dataframe\">\n",
              "  <thead>\n",
              "    <tr style=\"text-align: right;\">\n",
              "      <th></th>\n",
              "      <th>loss</th>\n",
              "      <th>accuracy</th>\n",
              "      <th>val_loss</th>\n",
              "      <th>val_accuracy</th>\n",
              "    </tr>\n",
              "  </thead>\n",
              "  <tbody>\n",
              "    <tr>\n",
              "      <th>0</th>\n",
              "      <td>0.713718</td>\n",
              "      <td>0.766800</td>\n",
              "      <td>0.505805</td>\n",
              "      <td>0.8286</td>\n",
              "    </tr>\n",
              "    <tr>\n",
              "      <th>1</th>\n",
              "      <td>0.486358</td>\n",
              "      <td>0.831309</td>\n",
              "      <td>0.457718</td>\n",
              "      <td>0.8390</td>\n",
              "    </tr>\n",
              "    <tr>\n",
              "      <th>2</th>\n",
              "      <td>0.442509</td>\n",
              "      <td>0.845145</td>\n",
              "      <td>0.423265</td>\n",
              "      <td>0.8556</td>\n",
              "    </tr>\n",
              "    <tr>\n",
              "      <th>3</th>\n",
              "      <td>0.415537</td>\n",
              "      <td>0.852982</td>\n",
              "      <td>0.404183</td>\n",
              "      <td>0.8658</td>\n",
              "    </tr>\n",
              "    <tr>\n",
              "      <th>4</th>\n",
              "      <td>0.395581</td>\n",
              "      <td>0.860400</td>\n",
              "      <td>0.401164</td>\n",
              "      <td>0.8624</td>\n",
              "    </tr>\n",
              "    <tr>\n",
              "      <th>5</th>\n",
              "      <td>0.378980</td>\n",
              "      <td>0.864691</td>\n",
              "      <td>0.379921</td>\n",
              "      <td>0.8684</td>\n",
              "    </tr>\n",
              "    <tr>\n",
              "      <th>6</th>\n",
              "      <td>0.365949</td>\n",
              "      <td>0.870509</td>\n",
              "      <td>0.361530</td>\n",
              "      <td>0.8742</td>\n",
              "    </tr>\n",
              "    <tr>\n",
              "      <th>7</th>\n",
              "      <td>0.355068</td>\n",
              "      <td>0.873091</td>\n",
              "      <td>0.357424</td>\n",
              "      <td>0.8770</td>\n",
              "    </tr>\n",
              "    <tr>\n",
              "      <th>8</th>\n",
              "      <td>0.343169</td>\n",
              "      <td>0.876800</td>\n",
              "      <td>0.356333</td>\n",
              "      <td>0.8798</td>\n",
              "    </tr>\n",
              "    <tr>\n",
              "      <th>9</th>\n",
              "      <td>0.335825</td>\n",
              "      <td>0.878436</td>\n",
              "      <td>0.340368</td>\n",
              "      <td>0.8800</td>\n",
              "    </tr>\n",
              "    <tr>\n",
              "      <th>10</th>\n",
              "      <td>0.326121</td>\n",
              "      <td>0.882564</td>\n",
              "      <td>0.334863</td>\n",
              "      <td>0.8798</td>\n",
              "    </tr>\n",
              "    <tr>\n",
              "      <th>11</th>\n",
              "      <td>0.318397</td>\n",
              "      <td>0.886345</td>\n",
              "      <td>0.337297</td>\n",
              "      <td>0.8862</td>\n",
              "    </tr>\n",
              "    <tr>\n",
              "      <th>12</th>\n",
              "      <td>0.310882</td>\n",
              "      <td>0.888382</td>\n",
              "      <td>0.327135</td>\n",
              "      <td>0.8846</td>\n",
              "    </tr>\n",
              "    <tr>\n",
              "      <th>13</th>\n",
              "      <td>0.305023</td>\n",
              "      <td>0.890182</td>\n",
              "      <td>0.319821</td>\n",
              "      <td>0.8880</td>\n",
              "    </tr>\n",
              "    <tr>\n",
              "      <th>14</th>\n",
              "      <td>0.298168</td>\n",
              "      <td>0.892655</td>\n",
              "      <td>0.323114</td>\n",
              "      <td>0.8846</td>\n",
              "    </tr>\n",
              "    <tr>\n",
              "      <th>15</th>\n",
              "      <td>0.291804</td>\n",
              "      <td>0.894600</td>\n",
              "      <td>0.314689</td>\n",
              "      <td>0.8882</td>\n",
              "    </tr>\n",
              "    <tr>\n",
              "      <th>16</th>\n",
              "      <td>0.286117</td>\n",
              "      <td>0.896455</td>\n",
              "      <td>0.314853</td>\n",
              "      <td>0.8904</td>\n",
              "    </tr>\n",
              "    <tr>\n",
              "      <th>17</th>\n",
              "      <td>0.280313</td>\n",
              "      <td>0.899309</td>\n",
              "      <td>0.307701</td>\n",
              "      <td>0.8910</td>\n",
              "    </tr>\n",
              "    <tr>\n",
              "      <th>18</th>\n",
              "      <td>0.274011</td>\n",
              "      <td>0.901327</td>\n",
              "      <td>0.323291</td>\n",
              "      <td>0.8854</td>\n",
              "    </tr>\n",
              "    <tr>\n",
              "      <th>19</th>\n",
              "      <td>0.269762</td>\n",
              "      <td>0.902982</td>\n",
              "      <td>0.308796</td>\n",
              "      <td>0.8946</td>\n",
              "    </tr>\n",
              "  </tbody>\n",
              "</table>\n",
              "</div>\n",
              "      <button class=\"colab-df-convert\" onclick=\"convertToInteractive('df-4cce2108-57a7-434f-917c-4c6a76a126c1')\"\n",
              "              title=\"Convert this dataframe to an interactive table.\"\n",
              "              style=\"display:none;\">\n",
              "        \n",
              "  <svg xmlns=\"http://www.w3.org/2000/svg\" height=\"24px\"viewBox=\"0 0 24 24\"\n",
              "       width=\"24px\">\n",
              "    <path d=\"M0 0h24v24H0V0z\" fill=\"none\"/>\n",
              "    <path d=\"M18.56 5.44l.94 2.06.94-2.06 2.06-.94-2.06-.94-.94-2.06-.94 2.06-2.06.94zm-11 1L8.5 8.5l.94-2.06 2.06-.94-2.06-.94L8.5 2.5l-.94 2.06-2.06.94zm10 10l.94 2.06.94-2.06 2.06-.94-2.06-.94-.94-2.06-.94 2.06-2.06.94z\"/><path d=\"M17.41 7.96l-1.37-1.37c-.4-.4-.92-.59-1.43-.59-.52 0-1.04.2-1.43.59L10.3 9.45l-7.72 7.72c-.78.78-.78 2.05 0 2.83L4 21.41c.39.39.9.59 1.41.59.51 0 1.02-.2 1.41-.59l7.78-7.78 2.81-2.81c.8-.78.8-2.07 0-2.86zM5.41 20L4 18.59l7.72-7.72 1.47 1.35L5.41 20z\"/>\n",
              "  </svg>\n",
              "      </button>\n",
              "      \n",
              "  <style>\n",
              "    .colab-df-container {\n",
              "      display:flex;\n",
              "      flex-wrap:wrap;\n",
              "      gap: 12px;\n",
              "    }\n",
              "\n",
              "    .colab-df-convert {\n",
              "      background-color: #E8F0FE;\n",
              "      border: none;\n",
              "      border-radius: 50%;\n",
              "      cursor: pointer;\n",
              "      display: none;\n",
              "      fill: #1967D2;\n",
              "      height: 32px;\n",
              "      padding: 0 0 0 0;\n",
              "      width: 32px;\n",
              "    }\n",
              "\n",
              "    .colab-df-convert:hover {\n",
              "      background-color: #E2EBFA;\n",
              "      box-shadow: 0px 1px 2px rgba(60, 64, 67, 0.3), 0px 1px 3px 1px rgba(60, 64, 67, 0.15);\n",
              "      fill: #174EA6;\n",
              "    }\n",
              "\n",
              "    [theme=dark] .colab-df-convert {\n",
              "      background-color: #3B4455;\n",
              "      fill: #D2E3FC;\n",
              "    }\n",
              "\n",
              "    [theme=dark] .colab-df-convert:hover {\n",
              "      background-color: #434B5C;\n",
              "      box-shadow: 0px 1px 3px 1px rgba(0, 0, 0, 0.15);\n",
              "      filter: drop-shadow(0px 1px 2px rgba(0, 0, 0, 0.3));\n",
              "      fill: #FFFFFF;\n",
              "    }\n",
              "  </style>\n",
              "\n",
              "      <script>\n",
              "        const buttonEl =\n",
              "          document.querySelector('#df-4cce2108-57a7-434f-917c-4c6a76a126c1 button.colab-df-convert');\n",
              "        buttonEl.style.display =\n",
              "          google.colab.kernel.accessAllowed ? 'block' : 'none';\n",
              "\n",
              "        async function convertToInteractive(key) {\n",
              "          const element = document.querySelector('#df-4cce2108-57a7-434f-917c-4c6a76a126c1');\n",
              "          const dataTable =\n",
              "            await google.colab.kernel.invokeFunction('convertToInteractive',\n",
              "                                                     [key], {});\n",
              "          if (!dataTable) return;\n",
              "\n",
              "          const docLinkHtml = 'Like what you see? Visit the ' +\n",
              "            '<a target=\"_blank\" href=https://colab.research.google.com/notebooks/data_table.ipynb>data table notebook</a>'\n",
              "            + ' to learn more about interactive tables.';\n",
              "          element.innerHTML = '';\n",
              "          dataTable['output_type'] = 'display_data';\n",
              "          await google.colab.output.renderOutput(dataTable, element);\n",
              "          const docLink = document.createElement('div');\n",
              "          docLink.innerHTML = docLinkHtml;\n",
              "          element.appendChild(docLink);\n",
              "        }\n",
              "      </script>\n",
              "    </div>\n",
              "  </div>\n",
              "  "
            ]
          },
          "metadata": {},
          "execution_count": 17
        }
      ]
    },
    {
      "cell_type": "code",
      "source": [
        "pd.DataFrame(history.history).plot(figsize=(8,5))\n",
        "plt.grid(True)\n",
        "plt.gca().set_ylim(0,1)\n",
        "plt.show()"
      ],
      "metadata": {
        "colab": {
          "base_uri": "https://localhost:8080/",
          "height": 324
        },
        "id": "WeJchSTk2aZG",
        "outputId": "acb09e3d-ef10-4f84-c72e-3037e73dc045"
      },
      "execution_count": 18,
      "outputs": [
        {
          "output_type": "display_data",
          "data": {
            "text/plain": [
              "<Figure size 576x360 with 1 Axes>"
            ],
            "image/png": "[encoded data removed]"
          },
          "metadata": {
            "needs_background": "light"
          }
        }
      ]
    },
    {
      "cell_type": "code",
      "source": [
        "# approach 1\n"
      ],
      "metadata": {
        "id": "ZTGSN88v2cYG"
      },
      "execution_count": 19,
      "outputs": []
    },
    {
      "cell_type": "code",
      "source": [
        "del model"
      ],
      "metadata": {
        "id": "DSwONxat2iOG"
      },
      "execution_count": 20,
      "outputs": []
    },
    {
      "cell_type": "code",
      "source": [
        "\n",
        "from keras.layers import BatchNormalization"
      ],
      "metadata": {
        "id": "ca09SJCz3Ov0"
      },
      "execution_count": 24,
      "outputs": []
    },
    {
      "cell_type": "code",
      "source": [
        "model = Sequential()\n",
        "model.add(Flatten(input_shape = [28,28]))\n",
        "model.add(BatchNormalization())\n",
        "model.add(Dense(300,activation = 'relu'))\n",
        "model.add(BatchNormalization())\n",
        "model.add(Dense(100,activation = 'relu'))\n",
        "model.add(BatchNormalization())\n",
        "model.add(Dense(10,activation = 'softmax'))\n",
        "model.summary()\n",
        "     "
      ],
      "metadata": {
        "colab": {
          "base_uri": "https://localhost:8080/"
        },
        "id": "gI65ER8W2i1G",
        "outputId": "61b2f10c-f3c3-48be-bd53-ac5a28532d87"
      },
      "execution_count": 26,
      "outputs": [
        {
          "output_type": "stream",
          "name": "stdout",
          "text": [
            "Model: \"sequential_4\"\n",
            "_________________________________________________________________\n",
            " Layer (type)                Output Shape              Param #   \n",
            "=================================================================\n",
            " flatten_4 (Flatten)         (None, 784)               0         \n",
            "                                                                 \n",
            " batch_normalization_1 (Batc  (None, 784)              3136      \n",
            " hNormalization)                                                 \n",
            "                                                                 \n",
            " dense_6 (Dense)             (None, 300)               235500    \n",
            "                                                                 \n",
            " batch_normalization_2 (Batc  (None, 300)              1200      \n",
            " hNormalization)                                                 \n",
            "                                                                 \n",
            " dense_7 (Dense)             (None, 100)               30100     \n",
            "                                                                 \n",
            " batch_normalization_3 (Batc  (None, 100)              400       \n",
            " hNormalization)                                                 \n",
            "                                                                 \n",
            " dense_8 (Dense)             (None, 10)                1010      \n",
            "                                                                 \n",
            "=================================================================\n",
            "Total params: 271,346\n",
            "Trainable params: 268,978\n",
            "Non-trainable params: 2,368\n",
            "_________________________________________________________________\n"
          ]
        }
      ]
    },
    {
      "cell_type": "code",
      "source": [
        "BN_params = sum([784 * 4, 300 * 4, 100 * 4])\n",
        "BN_params"
      ],
      "metadata": {
        "colab": {
          "base_uri": "https://localhost:8080/"
        },
        "id": "g3tjq5vH3GDe",
        "outputId": "6f194410-30f8-487a-9bd1-bc1988043848"
      },
      "execution_count": 27,
      "outputs": [
        {
          "output_type": "execute_result",
          "data": {
            "text/plain": [
              "4736"
            ]
          },
          "metadata": {},
          "execution_count": 27
        }
      ]
    },
    {
      "cell_type": "code",
      "source": [
        "Trainable_BN_params = sum([784 * 4, 300 * 4, 100 * 4])/2\n",
        "Trainable_BN_params ## Gamma, Beta"
      ],
      "metadata": {
        "colab": {
          "base_uri": "https://localhost:8080/"
        },
        "id": "XoIi2MAe3kuV",
        "outputId": "6e79b209-3537-44a5-a15f-2ebe06478a74"
      },
      "execution_count": 28,
      "outputs": [
        {
          "output_type": "execute_result",
          "data": {
            "text/plain": [
              "2368.0"
            ]
          },
          "metadata": {},
          "execution_count": 28
        }
      ]
    },
    {
      "cell_type": "code",
      "source": [
        "Non_Trainable_BN_params = BN_params - Trainable_BN_params\n",
        "Non_Trainable_BN_params ## Mean, std deviation"
      ],
      "metadata": {
        "colab": {
          "base_uri": "https://localhost:8080/"
        },
        "id": "WWHFO00g3mQ1",
        "outputId": "a3514df6-ac4e-4868-be4d-05f15fe79f6c"
      },
      "execution_count": 29,
      "outputs": [
        {
          "output_type": "execute_result",
          "data": {
            "text/plain": [
              "2368.0"
            ]
          },
          "metadata": {},
          "execution_count": 29
        }
      ]
    },
    {
      "cell_type": "code",
      "source": [
        "LOSS_FUNCTION = \"sparse_categorical_crossentropy\"\n",
        "OPTIMIZER = \"SGD\"\n",
        "METRICS = [\"accuracy\"]\n",
        "\n",
        "model.compile(loss=LOSS_FUNCTION,\n",
        "              optimizer=OPTIMIZER,\n",
        "              metrics=METRICS)\n"
      ],
      "metadata": {
        "id": "m8giOzx13nql"
      },
      "execution_count": 30,
      "outputs": []
    },
    {
      "cell_type": "code",
      "source": [
        "EPOCHS = 20\n",
        "VALIDATION_SET = (X_valid, y_valid)\n",
        "\n",
        "history = model.fit(X_train, y_train, \n",
        "                    epochs=EPOCHS, \n",
        "                    validation_data=VALIDATION_SET)"
      ],
      "metadata": {
        "colab": {
          "base_uri": "https://localhost:8080/"
        },
        "id": "fW0BBwKZ3o8V",
        "outputId": "9812eca0-f155-4757-cc27-301dbdcb3e56"
      },
      "execution_count": 31,
      "outputs": [
        {
          "output_type": "stream",
          "name": "stdout",
          "text": [
            "Epoch 1/20\n",
            "1719/1719 [==============================] - 8s 4ms/step - loss: 0.5277 - accuracy: 0.8165 - val_loss: 0.3849 - val_accuracy: 0.8626\n",
            "Epoch 2/20\n",
            "1719/1719 [==============================] - 7s 4ms/step - loss: 0.3956 - accuracy: 0.8607 - val_loss: 0.3432 - val_accuracy: 0.8776\n",
            "Epoch 3/20\n",
            "1719/1719 [==============================] - 7s 4ms/step - loss: 0.3532 - accuracy: 0.8718 - val_loss: 0.3287 - val_accuracy: 0.8818\n",
            "Epoch 4/20\n",
            "1719/1719 [==============================] - 8s 4ms/step - loss: 0.3256 - accuracy: 0.8838 - val_loss: 0.3259 - val_accuracy: 0.8844\n",
            "Epoch 5/20\n",
            "1719/1719 [==============================] - 8s 5ms/step - loss: 0.3078 - accuracy: 0.8890 - val_loss: 0.3145 - val_accuracy: 0.8892\n",
            "Epoch 6/20\n",
            "1719/1719 [==============================] - 7s 4ms/step - loss: 0.2880 - accuracy: 0.8946 - val_loss: 0.3159 - val_accuracy: 0.8860\n",
            "Epoch 7/20\n",
            "1719/1719 [==============================] - 7s 4ms/step - loss: 0.2752 - accuracy: 0.8999 - val_loss: 0.3112 - val_accuracy: 0.8892\n",
            "Epoch 8/20\n",
            "1719/1719 [==============================] - 7s 4ms/step - loss: 0.2637 - accuracy: 0.9043 - val_loss: 0.3046 - val_accuracy: 0.8938\n",
            "Epoch 9/20\n",
            "1719/1719 [==============================] - 7s 4ms/step - loss: 0.2519 - accuracy: 0.9083 - val_loss: 0.3130 - val_accuracy: 0.8910\n",
            "Epoch 10/20\n",
            "1719/1719 [==============================] - 7s 4ms/step - loss: 0.2425 - accuracy: 0.9119 - val_loss: 0.3168 - val_accuracy: 0.8930\n",
            "Epoch 11/20\n",
            "1719/1719 [==============================] - 7s 4ms/step - loss: 0.2321 - accuracy: 0.9152 - val_loss: 0.3123 - val_accuracy: 0.8924\n",
            "Epoch 12/20\n",
            "1719/1719 [==============================] - 7s 4ms/step - loss: 0.2227 - accuracy: 0.9189 - val_loss: 0.3063 - val_accuracy: 0.8940\n",
            "Epoch 13/20\n",
            "1719/1719 [==============================] - 7s 4ms/step - loss: 0.2164 - accuracy: 0.9211 - val_loss: 0.3069 - val_accuracy: 0.8926\n",
            "Epoch 14/20\n",
            "1719/1719 [==============================] - 7s 4ms/step - loss: 0.2070 - accuracy: 0.9243 - val_loss: 0.3128 - val_accuracy: 0.8944\n",
            "Epoch 15/20\n",
            "1719/1719 [==============================] - 8s 4ms/step - loss: 0.1993 - accuracy: 0.9271 - val_loss: 0.3085 - val_accuracy: 0.8940\n",
            "Epoch 16/20\n",
            "1719/1719 [==============================] - 7s 4ms/step - loss: 0.1941 - accuracy: 0.9287 - val_loss: 0.3098 - val_accuracy: 0.8956\n",
            "Epoch 17/20\n",
            "1719/1719 [==============================] - 7s 4ms/step - loss: 0.1854 - accuracy: 0.9319 - val_loss: 0.3152 - val_accuracy: 0.8924\n",
            "Epoch 18/20\n",
            "1719/1719 [==============================] - 7s 4ms/step - loss: 0.1778 - accuracy: 0.9357 - val_loss: 0.3175 - val_accuracy: 0.8954\n",
            "Epoch 19/20\n",
            "1719/1719 [==============================] - 7s 4ms/step - loss: 0.1715 - accuracy: 0.9374 - val_loss: 0.3171 - val_accuracy: 0.8956\n",
            "Epoch 20/20\n",
            "1719/1719 [==============================] - 7s 4ms/step - loss: 0.1696 - accuracy: 0.9386 - val_loss: 0.3206 - val_accuracy: 0.8956\n"
          ]
        }
      ]
    },
    {
      "cell_type": "code",
      "source": [
        "model.evaluate(X_test, y_test)"
      ],
      "metadata": {
        "colab": {
          "base_uri": "https://localhost:8080/"
        },
        "id": "_GnjGnjH3rY1",
        "outputId": "fa0af209-c0b1-4d65-81e4-5356e47173ad"
      },
      "execution_count": 32,
      "outputs": [
        {
          "output_type": "stream",
          "name": "stdout",
          "text": [
            "313/313 [==============================] - 1s 2ms/step - loss: 0.3443 - accuracy: 0.8876\n"
          ]
        },
        {
          "output_type": "execute_result",
          "data": {
            "text/plain": [
              "[0.34433671832084656, 0.8876000046730042]"
            ]
          },
          "metadata": {},
          "execution_count": 32
        }
      ]
    },
    {
      "cell_type": "code",
      "source": [
        "pd.DataFrame(history.history)"
      ],
      "metadata": {
        "colab": {
          "base_uri": "https://localhost:8080/",
          "height": 676
        },
        "id": "CsSNgao04XU0",
        "outputId": "02c7fb18-65a3-4a4b-f210-0227c8c929b9"
      },
      "execution_count": 33,
      "outputs": [
        {
          "output_type": "execute_result",
          "data": {
            "text/plain": [
              "        loss  accuracy  val_loss  val_accuracy\n",
              "0   0.527676  0.816491  0.384874        0.8626\n",
              "1   0.395618  0.860673  0.343211        0.8776\n",
              "2   0.353196  0.871764  0.328695        0.8818\n",
              "3   0.325584  0.883836  0.325888        0.8844\n",
              "4   0.307825  0.889018  0.314500        0.8892\n",
              "5   0.288005  0.894582  0.315870        0.8860\n",
              "6   0.275168  0.899927  0.311154        0.8892\n",
              "7   0.263736  0.904327  0.304644        0.8938\n",
              "8   0.251946  0.908327  0.312961        0.8910\n",
              "9   0.242523  0.911855  0.316769        0.8930\n",
              "10  0.232134  0.915164  0.312266        0.8924\n",
              "11  0.222719  0.918927  0.306258        0.8940\n",
              "12  0.216426  0.921145  0.306896        0.8926\n",
              "13  0.207016  0.924327  0.312819        0.8944\n",
              "14  0.199291  0.927091  0.308536        0.8940\n",
              "15  0.194093  0.928727  0.309817        0.8956\n",
              "16  0.185409  0.931945  0.315214        0.8924\n",
              "17  0.177802  0.935745  0.317503        0.8954\n",
              "18  0.171455  0.937418  0.317103        0.8956\n",
              "19  0.169636  0.938618  0.320561        0.8956"
            ],
            "text/html": [
              "\n",
              "  <div id=\"df-3c3d8f38-be52-4f87-a682-2c2ccd3444b4\">\n",
              "    <div class=\"colab-df-container\">\n",
              "      <div>\n",
              "<style scoped>\n",
              "    .dataframe tbody tr th:only-of-type {\n",
              "        vertical-align: middle;\n",
              "    }\n",
              "\n",
              "    .dataframe tbody tr th {\n",
              "        vertical-align: top;\n",
              "    }\n",
              "\n",
              "    .dataframe thead th {\n",
              "        text-align: right;\n",
              "    }\n",
              "</style>\n",
              "<table border=\"1\" class=\"dataframe\">\n",
              "  <thead>\n",
              "    <tr style=\"text-align: right;\">\n",
              "      <th></th>\n",
              "      <th>loss</th>\n",
              "      <th>accuracy</th>\n",
              "      <th>val_loss</th>\n",
              "      <th>val_accuracy</th>\n",
              "    </tr>\n",
              "  </thead>\n",
              "  <tbody>\n",
              "    <tr>\n",
              "      <th>0</th>\n",
              "      <td>0.527676</td>\n",
              "      <td>0.816491</td>\n",
              "      <td>0.384874</td>\n",
              "      <td>0.8626</td>\n",
              "    </tr>\n",
              "    <tr>\n",
              "      <th>1</th>\n",
              "      <td>0.395618</td>\n",
              "      <td>0.860673</td>\n",
              "      <td>0.343211</td>\n",
              "      <td>0.8776</td>\n",
              "    </tr>\n",
              "    <tr>\n",
              "      <th>2</th>\n",
              "      <td>0.353196</td>\n",
              "      <td>0.871764</td>\n",
              "      <td>0.328695</td>\n",
              "      <td>0.8818</td>\n",
              "    </tr>\n",
              "    <tr>\n",
              "      <th>3</th>\n",
              "      <td>0.325584</td>\n",
              "      <td>0.883836</td>\n",
              "      <td>0.325888</td>\n",
              "      <td>0.8844</td>\n",
              "    </tr>\n",
              "    <tr>\n",
              "      <th>4</th>\n",
              "      <td>0.307825</td>\n",
              "      <td>0.889018</td>\n",
              "      <td>0.314500</td>\n",
              "      <td>0.8892</td>\n",
              "    </tr>\n",
              "    <tr>\n",
              "      <th>5</th>\n",
              "      <td>0.288005</td>\n",
              "      <td>0.894582</td>\n",
              "      <td>0.315870</td>\n",
              "      <td>0.8860</td>\n",
              "    </tr>\n",
              "    <tr>\n",
              "      <th>6</th>\n",
              "      <td>0.275168</td>\n",
              "      <td>0.899927</td>\n",
              "      <td>0.311154</td>\n",
              "      <td>0.8892</td>\n",
              "    </tr>\n",
              "    <tr>\n",
              "      <th>7</th>\n",
              "      <td>0.263736</td>\n",
              "      <td>0.904327</td>\n",
              "      <td>0.304644</td>\n",
              "      <td>0.8938</td>\n",
              "    </tr>\n",
              "    <tr>\n",
              "      <th>8</th>\n",
              "      <td>0.251946</td>\n",
              "      <td>0.908327</td>\n",
              "      <td>0.312961</td>\n",
              "      <td>0.8910</td>\n",
              "    </tr>\n",
              "    <tr>\n",
              "      <th>9</th>\n",
              "      <td>0.242523</td>\n",
              "      <td>0.911855</td>\n",
              "      <td>0.316769</td>\n",
              "      <td>0.8930</td>\n",
              "    </tr>\n",
              "    <tr>\n",
              "      <th>10</th>\n",
              "      <td>0.232134</td>\n",
              "      <td>0.915164</td>\n",
              "      <td>0.312266</td>\n",
              "      <td>0.8924</td>\n",
              "    </tr>\n",
              "    <tr>\n",
              "      <th>11</th>\n",
              "      <td>0.222719</td>\n",
              "      <td>0.918927</td>\n",
              "      <td>0.306258</td>\n",
              "      <td>0.8940</td>\n",
              "    </tr>\n",
              "    <tr>\n",
              "      <th>12</th>\n",
              "      <td>0.216426</td>\n",
              "      <td>0.921145</td>\n",
              "      <td>0.306896</td>\n",
              "      <td>0.8926</td>\n",
              "    </tr>\n",
              "    <tr>\n",
              "      <th>13</th>\n",
              "      <td>0.207016</td>\n",
              "      <td>0.924327</td>\n",
              "      <td>0.312819</td>\n",
              "      <td>0.8944</td>\n",
              "    </tr>\n",
              "    <tr>\n",
              "      <th>14</th>\n",
              "      <td>0.199291</td>\n",
              "      <td>0.927091</td>\n",
              "      <td>0.308536</td>\n",
              "      <td>0.8940</td>\n",
              "    </tr>\n",
              "    <tr>\n",
              "      <th>15</th>\n",
              "      <td>0.194093</td>\n",
              "      <td>0.928727</td>\n",
              "      <td>0.309817</td>\n",
              "      <td>0.8956</td>\n",
              "    </tr>\n",
              "    <tr>\n",
              "      <th>16</th>\n",
              "      <td>0.185409</td>\n",
              "      <td>0.931945</td>\n",
              "      <td>0.315214</td>\n",
              "      <td>0.8924</td>\n",
              "    </tr>\n",
              "    <tr>\n",
              "      <th>17</th>\n",
              "      <td>0.177802</td>\n",
              "      <td>0.935745</td>\n",
              "      <td>0.317503</td>\n",
              "      <td>0.8954</td>\n",
              "    </tr>\n",
              "    <tr>\n",
              "      <th>18</th>\n",
              "      <td>0.171455</td>\n",
              "      <td>0.937418</td>\n",
              "      <td>0.317103</td>\n",
              "      <td>0.8956</td>\n",
              "    </tr>\n",
              "    <tr>\n",
              "      <th>19</th>\n",
              "      <td>0.169636</td>\n",
              "      <td>0.938618</td>\n",
              "      <td>0.320561</td>\n",
              "      <td>0.8956</td>\n",
              "    </tr>\n",
              "  </tbody>\n",
              "</table>\n",
              "</div>\n",
              "      <button class=\"colab-df-convert\" onclick=\"convertToInteractive('df-3c3d8f38-be52-4f87-a682-2c2ccd3444b4')\"\n",
              "              title=\"Convert this dataframe to an interactive table.\"\n",
              "              style=\"display:none;\">\n",
              "        \n",
              "  <svg xmlns=\"http://www.w3.org/2000/svg\" height=\"24px\"viewBox=\"0 0 24 24\"\n",
              "       width=\"24px\">\n",
              "    <path d=\"M0 0h24v24H0V0z\" fill=\"none\"/>\n",
              "    <path d=\"M18.56 5.44l.94 2.06.94-2.06 2.06-.94-2.06-.94-.94-2.06-.94 2.06-2.06.94zm-11 1L8.5 8.5l.94-2.06 2.06-.94-2.06-.94L8.5 2.5l-.94 2.06-2.06.94zm10 10l.94 2.06.94-2.06 2.06-.94-2.06-.94-.94-2.06-.94 2.06-2.06.94z\"/><path d=\"M17.41 7.96l-1.37-1.37c-.4-.4-.92-.59-1.43-.59-.52 0-1.04.2-1.43.59L10.3 9.45l-7.72 7.72c-.78.78-.78 2.05 0 2.83L4 21.41c.39.39.9.59 1.41.59.51 0 1.02-.2 1.41-.59l7.78-7.78 2.81-2.81c.8-.78.8-2.07 0-2.86zM5.41 20L4 18.59l7.72-7.72 1.47 1.35L5.41 20z\"/>\n",
              "  </svg>\n",
              "      </button>\n",
              "      \n",
              "  <style>\n",
              "    .colab-df-container {\n",
              "      display:flex;\n",
              "      flex-wrap:wrap;\n",
              "      gap: 12px;\n",
              "    }\n",
              "\n",
              "    .colab-df-convert {\n",
              "      background-color: #E8F0FE;\n",
              "      border: none;\n",
              "      border-radius: 50%;\n",
              "      cursor: pointer;\n",
              "      display: none;\n",
              "      fill: #1967D2;\n",
              "      height: 32px;\n",
              "      padding: 0 0 0 0;\n",
              "      width: 32px;\n",
              "    }\n",
              "\n",
              "    .colab-df-convert:hover {\n",
              "      background-color: #E2EBFA;\n",
              "      box-shadow: 0px 1px 2px rgba(60, 64, 67, 0.3), 0px 1px 3px 1px rgba(60, 64, 67, 0.15);\n",
              "      fill: #174EA6;\n",
              "    }\n",
              "\n",
              "    [theme=dark] .colab-df-convert {\n",
              "      background-color: #3B4455;\n",
              "      fill: #D2E3FC;\n",
              "    }\n",
              "\n",
              "    [theme=dark] .colab-df-convert:hover {\n",
              "      background-color: #434B5C;\n",
              "      box-shadow: 0px 1px 3px 1px rgba(0, 0, 0, 0.15);\n",
              "      filter: drop-shadow(0px 1px 2px rgba(0, 0, 0, 0.3));\n",
              "      fill: #FFFFFF;\n",
              "    }\n",
              "  </style>\n",
              "\n",
              "      <script>\n",
              "        const buttonEl =\n",
              "          document.querySelector('#df-3c3d8f38-be52-4f87-a682-2c2ccd3444b4 button.colab-df-convert');\n",
              "        buttonEl.style.display =\n",
              "          google.colab.kernel.accessAllowed ? 'block' : 'none';\n",
              "\n",
              "        async function convertToInteractive(key) {\n",
              "          const element = document.querySelector('#df-3c3d8f38-be52-4f87-a682-2c2ccd3444b4');\n",
              "          const dataTable =\n",
              "            await google.colab.kernel.invokeFunction('convertToInteractive',\n",
              "                                                     [key], {});\n",
              "          if (!dataTable) return;\n",
              "\n",
              "          const docLinkHtml = 'Like what you see? Visit the ' +\n",
              "            '<a target=\"_blank\" href=https://colab.research.google.com/notebooks/data_table.ipynb>data table notebook</a>'\n",
              "            + ' to learn more about interactive tables.';\n",
              "          element.innerHTML = '';\n",
              "          dataTable['output_type'] = 'display_data';\n",
              "          await google.colab.output.renderOutput(dataTable, element);\n",
              "          const docLink = document.createElement('div');\n",
              "          docLink.innerHTML = docLinkHtml;\n",
              "          element.appendChild(docLink);\n",
              "        }\n",
              "      </script>\n",
              "    </div>\n",
              "  </div>\n",
              "  "
            ]
          },
          "metadata": {},
          "execution_count": 33
        }
      ]
    },
    {
      "cell_type": "code",
      "source": [
        "pd.DataFrame(history.history).plot(figsize=(8,5))\n",
        "plt.grid(True)\n",
        "plt.gca().set_ylim(0,1)\n",
        "plt.show()"
      ],
      "metadata": {
        "colab": {
          "base_uri": "https://localhost:8080/",
          "height": 324
        },
        "id": "9gvy4vAk4ZwL",
        "outputId": "400e32f9-8e8b-46c6-e87f-29e3a71f01ac"
      },
      "execution_count": 34,
      "outputs": [
        {
          "output_type": "display_data",
          "data": {
            "text/plain": [
              "<Figure size 576x360 with 1 Axes>"
            ],
            "image/png": "[encoded data removed]"
          },
          "metadata": {
            "needs_background": "light"
          }
        }
      ]
    },
    {
      "cell_type": "code",
      "source": [
        "# approach 2"
      ],
      "metadata": {
        "id": "xoQUL5QL4pur"
      },
      "execution_count": 36,
      "outputs": []
    },
    {
      "cell_type": "code",
      "source": [
        "del model"
      ],
      "metadata": {
        "id": "pQpNLM7N4ocr"
      },
      "execution_count": 35,
      "outputs": []
    },
    {
      "cell_type": "code",
      "source": [
        "LAYER_BN_TWO = [\n",
        "          tf.keras.layers.Flatten(input_shape=[28, 28], name=\"inputLayer\"),\n",
        "          tf.keras.layers.BatchNormalization(),\n",
        "          tf.keras.layers.Dense(300, name=\"hiddenLayer1\"),\n",
        "          tf.keras.layers.BatchNormalization(),\n",
        "          tf.keras.layers.Activation(\"relu\"),\n",
        "          tf.keras.layers.Dense(100, name=\"hiddenLayer2\"),\n",
        "          tf.keras.layers.BatchNormalization(),\n",
        "          tf.keras.layers.Activation(\"relu\"),\n",
        "          tf.keras.layers.Dense(10, activation=\"softmax\", name=\"outputLayer\"),\n",
        "          \n",
        "]\n",
        "     "
      ],
      "metadata": {
        "id": "jptMLQKz4pOV"
      },
      "execution_count": 42,
      "outputs": []
    },
    {
      "cell_type": "code",
      "source": [
        "model = tf.keras.models.Sequential(LAYER_BN_TWO)"
      ],
      "metadata": {
        "id": "AZ7b5GHz5B60"
      },
      "execution_count": 43,
      "outputs": []
    },
    {
      "cell_type": "code",
      "source": [
        "BN_layer_1 = model.layers[1]\n",
        "BN_layer_1"
      ],
      "metadata": {
        "colab": {
          "base_uri": "https://localhost:8080/"
        },
        "id": "BJfrvYgi63uy",
        "outputId": "0273b067-a5d4-442d-ea2e-150b37deeb22"
      },
      "execution_count": 44,
      "outputs": [
        {
          "output_type": "execute_result",
          "data": {
            "text/plain": [
              "<keras.layers.normalization.batch_normalization.BatchNormalization at 0x7f99e2420a30>"
            ]
          },
          "metadata": {},
          "execution_count": 44
        }
      ]
    },
    {
      "cell_type": "code",
      "source": [
        "for variable in BN_layer_1.variables:\n",
        "  print(variable.name, variable.trainable)"
      ],
      "metadata": {
        "colab": {
          "base_uri": "https://localhost:8080/"
        },
        "id": "958i5WA766ry",
        "outputId": "c9f3c4f0-f9ea-47ba-9f2c-58cf2ccd4a07"
      },
      "execution_count": 45,
      "outputs": [
        {
          "output_type": "stream",
          "name": "stdout",
          "text": [
            "batch_normalization_14/gamma:0 True\n",
            "batch_normalization_14/beta:0 True\n",
            "batch_normalization_14/moving_mean:0 False\n",
            "batch_normalization_14/moving_variance:0 False\n"
          ]
        }
      ]
    },
    {
      "cell_type": "code",
      "source": [
        "model.summary()"
      ],
      "metadata": {
        "colab": {
          "base_uri": "https://localhost:8080/"
        },
        "id": "vlEwwu_K68PC",
        "outputId": "1d9a6faa-a5cb-4228-b11a-8110ea4a066a"
      },
      "execution_count": 46,
      "outputs": [
        {
          "output_type": "stream",
          "name": "stdout",
          "text": [
            "Model: \"sequential_10\"\n",
            "_________________________________________________________________\n",
            " Layer (type)                Output Shape              Param #   \n",
            "=================================================================\n",
            " inputLayer (Flatten)        (None, 784)               0         \n",
            "                                                                 \n",
            " batch_normalization_14 (Bat  (None, 784)              3136      \n",
            " chNormalization)                                                \n",
            "                                                                 \n",
            " hiddenLayer1 (Dense)        (None, 300)               235500    \n",
            "                                                                 \n",
            " batch_normalization_15 (Bat  (None, 300)              1200      \n",
            " chNormalization)                                                \n",
            "                                                                 \n",
            " activation (Activation)     (None, 300)               0         \n",
            "                                                                 \n",
            " hiddenLayer2 (Dense)        (None, 100)               30100     \n",
            "                                                                 \n",
            " batch_normalization_16 (Bat  (None, 100)              400       \n",
            " chNormalization)                                                \n",
            "                                                                 \n",
            " activation_1 (Activation)   (None, 100)               0         \n",
            "                                                                 \n",
            " outputLayer (Dense)         (None, 10)                1010      \n",
            "                                                                 \n",
            "=================================================================\n",
            "Total params: 271,346\n",
            "Trainable params: 268,978\n",
            "Non-trainable params: 2,368\n",
            "_________________________________________________________________\n"
          ]
        }
      ]
    },
    {
      "cell_type": "code",
      "source": [
        "BN_params = sum([784 * 4, 300 * 4, 100 * 4])\n",
        "BN_params"
      ],
      "metadata": {
        "colab": {
          "base_uri": "https://localhost:8080/"
        },
        "id": "VVEY3Kd769fx",
        "outputId": "a4e848a8-889d-4c57-93ba-e309cd9d260b"
      },
      "execution_count": 47,
      "outputs": [
        {
          "output_type": "execute_result",
          "data": {
            "text/plain": [
              "4736"
            ]
          },
          "metadata": {},
          "execution_count": 47
        }
      ]
    },
    {
      "cell_type": "code",
      "source": [
        "Trainable_BN_params = sum([784 * 4, 300 * 4, 100 * 4])/2\n",
        "Trainable_BN_params ## Gamma, Beta"
      ],
      "metadata": {
        "colab": {
          "base_uri": "https://localhost:8080/"
        },
        "id": "uTAW1t906-9i",
        "outputId": "c6250840-e806-4ab3-ea3e-84d28f3d623a"
      },
      "execution_count": 48,
      "outputs": [
        {
          "output_type": "execute_result",
          "data": {
            "text/plain": [
              "2368.0"
            ]
          },
          "metadata": {},
          "execution_count": 48
        }
      ]
    },
    {
      "cell_type": "code",
      "source": [
        "Non_Trainable_BN_params = BN_params - Trainable_BN_params\n",
        "Non_Trainable_BN_params ## Mean, std deviation"
      ],
      "metadata": {
        "colab": {
          "base_uri": "https://localhost:8080/"
        },
        "id": "ZAr-BLWG7AFy",
        "outputId": "71c6f7ec-9088-4e56-b3c1-8bb243e7b4e1"
      },
      "execution_count": 49,
      "outputs": [
        {
          "output_type": "execute_result",
          "data": {
            "text/plain": [
              "2368.0"
            ]
          },
          "metadata": {},
          "execution_count": 49
        }
      ]
    },
    {
      "cell_type": "code",
      "source": [
        "LOSS_FUNCTION = \"sparse_categorical_crossentropy\"\n",
        "OPTIMIZER = \"SGD\"\n",
        "METRICS = [\"accuracy\"]\n",
        "\n",
        "model.compile(loss=LOSS_FUNCTION,\n",
        "              optimizer=OPTIMIZER,\n",
        "              metrics=METRICS)\n"
      ],
      "metadata": {
        "id": "c1QPw71r7Bci"
      },
      "execution_count": 50,
      "outputs": []
    },
    {
      "cell_type": "code",
      "source": [
        "EPOCHS = 20\n",
        "VALIDATION_SET = (X_valid, y_valid)\n",
        "\n",
        "history = model.fit(X_train, y_train, \n",
        "                    epochs=EPOCHS, \n",
        "                    validation_data=VALIDATION_SET)"
      ],
      "metadata": {
        "colab": {
          "base_uri": "https://localhost:8080/"
        },
        "id": "5pW4OS9b7C6y",
        "outputId": "a1ea5156-a48b-4972-e419-c5dafffd7800"
      },
      "execution_count": 51,
      "outputs": [
        {
          "output_type": "stream",
          "name": "stdout",
          "text": [
            "Epoch 1/20\n",
            "1719/1719 [==============================] - 8s 4ms/step - loss: 0.5900 - accuracy: 0.8016 - val_loss: 0.3899 - val_accuracy: 0.8650\n",
            "Epoch 2/20\n",
            "1719/1719 [==============================] - 7s 4ms/step - loss: 0.4114 - accuracy: 0.8563 - val_loss: 0.3507 - val_accuracy: 0.8744\n",
            "Epoch 3/20\n",
            "1719/1719 [==============================] - 7s 4ms/step - loss: 0.3695 - accuracy: 0.8698 - val_loss: 0.3344 - val_accuracy: 0.8824\n",
            "Epoch 4/20\n",
            "1719/1719 [==============================] - 7s 4ms/step - loss: 0.3423 - accuracy: 0.8788 - val_loss: 0.3232 - val_accuracy: 0.8810\n",
            "Epoch 5/20\n",
            "1719/1719 [==============================] - 7s 4ms/step - loss: 0.3199 - accuracy: 0.8845 - val_loss: 0.3134 - val_accuracy: 0.8842\n",
            "Epoch 6/20\n",
            "1719/1719 [==============================] - 7s 4ms/step - loss: 0.3047 - accuracy: 0.8911 - val_loss: 0.3099 - val_accuracy: 0.8892\n",
            "Epoch 7/20\n",
            "1719/1719 [==============================] - 7s 4ms/step - loss: 0.2885 - accuracy: 0.8970 - val_loss: 0.3008 - val_accuracy: 0.8888\n",
            "Epoch 8/20\n",
            "1719/1719 [==============================] - 7s 4ms/step - loss: 0.2761 - accuracy: 0.9015 - val_loss: 0.3032 - val_accuracy: 0.8826\n",
            "Epoch 9/20\n",
            "1719/1719 [==============================] - 7s 4ms/step - loss: 0.2650 - accuracy: 0.9037 - val_loss: 0.2982 - val_accuracy: 0.8896\n",
            "Epoch 10/20\n",
            "1719/1719 [==============================] - 7s 4ms/step - loss: 0.2520 - accuracy: 0.9076 - val_loss: 0.2936 - val_accuracy: 0.8890\n",
            "Epoch 11/20\n",
            "1719/1719 [==============================] - 7s 4ms/step - loss: 0.2413 - accuracy: 0.9133 - val_loss: 0.2974 - val_accuracy: 0.8900\n",
            "Epoch 12/20\n",
            "1719/1719 [==============================] - 7s 4ms/step - loss: 0.2311 - accuracy: 0.9156 - val_loss: 0.2905 - val_accuracy: 0.8946\n",
            "Epoch 13/20\n",
            "1719/1719 [==============================] - 7s 4ms/step - loss: 0.2242 - accuracy: 0.9189 - val_loss: 0.2935 - val_accuracy: 0.8930\n",
            "Epoch 14/20\n",
            "1719/1719 [==============================] - 7s 4ms/step - loss: 0.2161 - accuracy: 0.9222 - val_loss: 0.2909 - val_accuracy: 0.8944\n",
            "Epoch 15/20\n",
            "1719/1719 [==============================] - 7s 4ms/step - loss: 0.2086 - accuracy: 0.9237 - val_loss: 0.2996 - val_accuracy: 0.8904\n",
            "Epoch 16/20\n",
            "1719/1719 [==============================] - 9s 5ms/step - loss: 0.1998 - accuracy: 0.9281 - val_loss: 0.2961 - val_accuracy: 0.8958\n",
            "Epoch 17/20\n",
            "1719/1719 [==============================] - 7s 4ms/step - loss: 0.1957 - accuracy: 0.9302 - val_loss: 0.2934 - val_accuracy: 0.8952\n",
            "Epoch 18/20\n",
            "1719/1719 [==============================] - 7s 4ms/step - loss: 0.1884 - accuracy: 0.9321 - val_loss: 0.3059 - val_accuracy: 0.8926\n",
            "Epoch 19/20\n",
            "1719/1719 [==============================] - 7s 4ms/step - loss: 0.1796 - accuracy: 0.9351 - val_loss: 0.2990 - val_accuracy: 0.8928\n",
            "Epoch 20/20\n",
            "1719/1719 [==============================] - 7s 4ms/step - loss: 0.1750 - accuracy: 0.9369 - val_loss: 0.2983 - val_accuracy: 0.8948\n"
          ]
        }
      ]
    },
    {
      "cell_type": "code",
      "source": [],
      "metadata": {
        "id": "7yTdIZzo7E1i"
      },
      "execution_count": null,
      "outputs": []
    },
    {
      "cell_type": "code",
      "source": [
        "model.evaluate(X_test, y_test)"
      ],
      "metadata": {
        "colab": {
          "base_uri": "https://localhost:8080/"
        },
        "outputId": "cf22d968-58fd-4a58-a9a4-c652a657ae80",
        "id": "9l_0owIz7IEW"
      },
      "execution_count": 52,
      "outputs": [
        {
          "output_type": "stream",
          "name": "stdout",
          "text": [
            "313/313 [==============================] - 1s 2ms/step - loss: 0.3346 - accuracy: 0.8883\n"
          ]
        },
        {
          "output_type": "execute_result",
          "data": {
            "text/plain": [
              "[0.3345930278301239, 0.8883000016212463]"
            ]
          },
          "metadata": {},
          "execution_count": 52
        }
      ]
    },
    {
      "cell_type": "code",
      "source": [
        "pd.DataFrame(history.history)"
      ],
      "metadata": {
        "colab": {
          "base_uri": "https://localhost:8080/",
          "height": 676
        },
        "outputId": "f3085dca-09b7-4f42-fa09-fd71a77ea544",
        "id": "vJMStVlx7IEX"
      },
      "execution_count": 53,
      "outputs": [
        {
          "output_type": "execute_result",
          "data": {
            "text/plain": [
              "        loss  accuracy  val_loss  val_accuracy\n",
              "0   0.589978  0.801582  0.389916        0.8650\n",
              "1   0.411357  0.856327  0.350690        0.8744\n",
              "2   0.369473  0.869764  0.334434        0.8824\n",
              "3   0.342257  0.878764  0.323185        0.8810\n",
              "4   0.319950  0.884545  0.313427        0.8842\n",
              "5   0.304671  0.891091  0.309850        0.8892\n",
              "6   0.288528  0.897000  0.300813        0.8888\n",
              "7   0.276127  0.901455  0.303237        0.8826\n",
              "8   0.265010  0.903673  0.298155        0.8896\n",
              "9   0.251995  0.907582  0.293638        0.8890\n",
              "10  0.241275  0.913273  0.297372        0.8900\n",
              "11  0.231120  0.915582  0.290490        0.8946\n",
              "12  0.224182  0.918909  0.293550        0.8930\n",
              "13  0.216070  0.922200  0.290869        0.8944\n",
              "14  0.208566  0.923673  0.299634        0.8904\n",
              "15  0.199766  0.928127  0.296056        0.8958\n",
              "16  0.195660  0.930200  0.293379        0.8952\n",
              "17  0.188423  0.932055  0.305927        0.8926\n",
              "18  0.179636  0.935055  0.298993        0.8928\n",
              "19  0.175026  0.936945  0.298289        0.8948"
            ],
            "text/html": [
              "\n",
              "  <div id=\"df-d82dd621-0dd2-445f-9eb4-5195c26b727a\">\n",
              "    <div class=\"colab-df-container\">\n",
              "      <div>\n",
              "<style scoped>\n",
              "    .dataframe tbody tr th:only-of-type {\n",
              "        vertical-align: middle;\n",
              "    }\n",
              "\n",
              "    .dataframe tbody tr th {\n",
              "        vertical-align: top;\n",
              "    }\n",
              "\n",
              "    .dataframe thead th {\n",
              "        text-align: right;\n",
              "    }\n",
              "</style>\n",
              "<table border=\"1\" class=\"dataframe\">\n",
              "  <thead>\n",
              "    <tr style=\"text-align: right;\">\n",
              "      <th></th>\n",
              "      <th>loss</th>\n",
              "      <th>accuracy</th>\n",
              "      <th>val_loss</th>\n",
              "      <th>val_accuracy</th>\n",
              "    </tr>\n",
              "  </thead>\n",
              "  <tbody>\n",
              "    <tr>\n",
              "      <th>0</th>\n",
              "      <td>0.589978</td>\n",
              "      <td>0.801582</td>\n",
              "      <td>0.389916</td>\n",
              "      <td>0.8650</td>\n",
              "    </tr>\n",
              "    <tr>\n",
              "      <th>1</th>\n",
              "      <td>0.411357</td>\n",
              "      <td>0.856327</td>\n",
              "      <td>0.350690</td>\n",
              "      <td>0.8744</td>\n",
              "    </tr>\n",
              "    <tr>\n",
              "      <th>2</th>\n",
              "      <td>0.369473</td>\n",
              "      <td>0.869764</td>\n",
              "      <td>0.334434</td>\n",
              "      <td>0.8824</td>\n",
              "    </tr>\n",
              "    <tr>\n",
              "      <th>3</th>\n",
              "      <td>0.342257</td>\n",
              "      <td>0.878764</td>\n",
              "      <td>0.323185</td>\n",
              "      <td>0.8810</td>\n",
              "    </tr>\n",
              "    <tr>\n",
              "      <th>4</th>\n",
              "      <td>0.319950</td>\n",
              "      <td>0.884545</td>\n",
              "      <td>0.313427</td>\n",
              "      <td>0.8842</td>\n",
              "    </tr>\n",
              "    <tr>\n",
              "      <th>5</th>\n",
              "      <td>0.304671</td>\n",
              "      <td>0.891091</td>\n",
              "      <td>0.309850</td>\n",
              "      <td>0.8892</td>\n",
              "    </tr>\n",
              "    <tr>\n",
              "      <th>6</th>\n",
              "      <td>0.288528</td>\n",
              "      <td>0.897000</td>\n",
              "      <td>0.300813</td>\n",
              "      <td>0.8888</td>\n",
              "    </tr>\n",
              "    <tr>\n",
              "      <th>7</th>\n",
              "      <td>0.276127</td>\n",
              "      <td>0.901455</td>\n",
              "      <td>0.303237</td>\n",
              "      <td>0.8826</td>\n",
              "    </tr>\n",
              "    <tr>\n",
              "      <th>8</th>\n",
              "      <td>0.265010</td>\n",
              "      <td>0.903673</td>\n",
              "      <td>0.298155</td>\n",
              "      <td>0.8896</td>\n",
              "    </tr>\n",
              "    <tr>\n",
              "      <th>9</th>\n",
              "      <td>0.251995</td>\n",
              "      <td>0.907582</td>\n",
              "      <td>0.293638</td>\n",
              "      <td>0.8890</td>\n",
              "    </tr>\n",
              "    <tr>\n",
              "      <th>10</th>\n",
              "      <td>0.241275</td>\n",
              "      <td>0.913273</td>\n",
              "      <td>0.297372</td>\n",
              "      <td>0.8900</td>\n",
              "    </tr>\n",
              "    <tr>\n",
              "      <th>11</th>\n",
              "      <td>0.231120</td>\n",
              "      <td>0.915582</td>\n",
              "      <td>0.290490</td>\n",
              "      <td>0.8946</td>\n",
              "    </tr>\n",
              "    <tr>\n",
              "      <th>12</th>\n",
              "      <td>0.224182</td>\n",
              "      <td>0.918909</td>\n",
              "      <td>0.293550</td>\n",
              "      <td>0.8930</td>\n",
              "    </tr>\n",
              "    <tr>\n",
              "      <th>13</th>\n",
              "      <td>0.216070</td>\n",
              "      <td>0.922200</td>\n",
              "      <td>0.290869</td>\n",
              "      <td>0.8944</td>\n",
              "    </tr>\n",
              "    <tr>\n",
              "      <th>14</th>\n",
              "      <td>0.208566</td>\n",
              "      <td>0.923673</td>\n",
              "      <td>0.299634</td>\n",
              "      <td>0.8904</td>\n",
              "    </tr>\n",
              "    <tr>\n",
              "      <th>15</th>\n",
              "      <td>0.199766</td>\n",
              "      <td>0.928127</td>\n",
              "      <td>0.296056</td>\n",
              "      <td>0.8958</td>\n",
              "    </tr>\n",
              "    <tr>\n",
              "      <th>16</th>\n",
              "      <td>0.195660</td>\n",
              "      <td>0.930200</td>\n",
              "      <td>0.293379</td>\n",
              "      <td>0.8952</td>\n",
              "    </tr>\n",
              "    <tr>\n",
              "      <th>17</th>\n",
              "      <td>0.188423</td>\n",
              "      <td>0.932055</td>\n",
              "      <td>0.305927</td>\n",
              "      <td>0.8926</td>\n",
              "    </tr>\n",
              "    <tr>\n",
              "      <th>18</th>\n",
              "      <td>0.179636</td>\n",
              "      <td>0.935055</td>\n",
              "      <td>0.298993</td>\n",
              "      <td>0.8928</td>\n",
              "    </tr>\n",
              "    <tr>\n",
              "      <th>19</th>\n",
              "      <td>0.175026</td>\n",
              "      <td>0.936945</td>\n",
              "      <td>0.298289</td>\n",
              "      <td>0.8948</td>\n",
              "    </tr>\n",
              "  </tbody>\n",
              "</table>\n",
              "</div>\n",
              "      <button class=\"colab-df-convert\" onclick=\"convertToInteractive('df-d82dd621-0dd2-445f-9eb4-5195c26b727a')\"\n",
              "              title=\"Convert this dataframe to an interactive table.\"\n",
              "              style=\"display:none;\">\n",
              "        \n",
              "  <svg xmlns=\"http://www.w3.org/2000/svg\" height=\"24px\"viewBox=\"0 0 24 24\"\n",
              "       width=\"24px\">\n",
              "    <path d=\"M0 0h24v24H0V0z\" fill=\"none\"/>\n",
              "    <path d=\"M18.56 5.44l.94 2.06.94-2.06 2.06-.94-2.06-.94-.94-2.06-.94 2.06-2.06.94zm-11 1L8.5 8.5l.94-2.06 2.06-.94-2.06-.94L8.5 2.5l-.94 2.06-2.06.94zm10 10l.94 2.06.94-2.06 2.06-.94-2.06-.94-.94-2.06-.94 2.06-2.06.94z\"/><path d=\"M17.41 7.96l-1.37-1.37c-.4-.4-.92-.59-1.43-.59-.52 0-1.04.2-1.43.59L10.3 9.45l-7.72 7.72c-.78.78-.78 2.05 0 2.83L4 21.41c.39.39.9.59 1.41.59.51 0 1.02-.2 1.41-.59l7.78-7.78 2.81-2.81c.8-.78.8-2.07 0-2.86zM5.41 20L4 18.59l7.72-7.72 1.47 1.35L5.41 20z\"/>\n",
              "  </svg>\n",
              "      </button>\n",
              "      \n",
              "  <style>\n",
              "    .colab-df-container {\n",
              "      display:flex;\n",
              "      flex-wrap:wrap;\n",
              "      gap: 12px;\n",
              "    }\n",
              "\n",
              "    .colab-df-convert {\n",
              "      background-color: #E8F0FE;\n",
              "      border: none;\n",
              "      border-radius: 50%;\n",
              "      cursor: pointer;\n",
              "      display: none;\n",
              "      fill: #1967D2;\n",
              "      height: 32px;\n",
              "      padding: 0 0 0 0;\n",
              "      width: 32px;\n",
              "    }\n",
              "\n",
              "    .colab-df-convert:hover {\n",
              "      background-color: #E2EBFA;\n",
              "      box-shadow: 0px 1px 2px rgba(60, 64, 67, 0.3), 0px 1px 3px 1px rgba(60, 64, 67, 0.15);\n",
              "      fill: #174EA6;\n",
              "    }\n",
              "\n",
              "    [theme=dark] .colab-df-convert {\n",
              "      background-color: #3B4455;\n",
              "      fill: #D2E3FC;\n",
              "    }\n",
              "\n",
              "    [theme=dark] .colab-df-convert:hover {\n",
              "      background-color: #434B5C;\n",
              "      box-shadow: 0px 1px 3px 1px rgba(0, 0, 0, 0.15);\n",
              "      filter: drop-shadow(0px 1px 2px rgba(0, 0, 0, 0.3));\n",
              "      fill: #FFFFFF;\n",
              "    }\n",
              "  </style>\n",
              "\n",
              "      <script>\n",
              "        const buttonEl =\n",
              "          document.querySelector('#df-d82dd621-0dd2-445f-9eb4-5195c26b727a button.colab-df-convert');\n",
              "        buttonEl.style.display =\n",
              "          google.colab.kernel.accessAllowed ? 'block' : 'none';\n",
              "\n",
              "        async function convertToInteractive(key) {\n",
              "          const element = document.querySelector('#df-d82dd621-0dd2-445f-9eb4-5195c26b727a');\n",
              "          const dataTable =\n",
              "            await google.colab.kernel.invokeFunction('convertToInteractive',\n",
              "                                                     [key], {});\n",
              "          if (!dataTable) return;\n",
              "\n",
              "          const docLinkHtml = 'Like what you see? Visit the ' +\n",
              "            '<a target=\"_blank\" href=https://colab.research.google.com/notebooks/data_table.ipynb>data table notebook</a>'\n",
              "            + ' to learn more about interactive tables.';\n",
              "          element.innerHTML = '';\n",
              "          dataTable['output_type'] = 'display_data';\n",
              "          await google.colab.output.renderOutput(dataTable, element);\n",
              "          const docLink = document.createElement('div');\n",
              "          docLink.innerHTML = docLinkHtml;\n",
              "          element.appendChild(docLink);\n",
              "        }\n",
              "      </script>\n",
              "    </div>\n",
              "  </div>\n",
              "  "
            ]
          },
          "metadata": {},
          "execution_count": 53
        }
      ]
    },
    {
      "cell_type": "code",
      "source": [
        "pd.DataFrame(history.history).plot(figsize=(8,5))\n",
        "plt.grid(True)\n",
        "plt.gca().set_ylim(0,1)\n",
        "plt.show()"
      ],
      "metadata": {
        "colab": {
          "base_uri": "https://localhost:8080/",
          "height": 324
        },
        "outputId": "cf030d33-43f9-41c4-a850-b4e05d094ed9",
        "id": "DVLx7JWv7IEX"
      },
      "execution_count": 54,
      "outputs": [
        {
          "output_type": "display_data",
          "data": {
            "text/plain": [
              "<Figure size 576x360 with 1 Axes>"
            ],
            "image/png": "[encoded data removed]"
          },
          "metadata": {
            "needs_background": "light"
          }
        }
      ]
    },
    {
      "cell_type": "code",
      "source": [],
      "metadata": {
        "id": "-B08wRiy7JmC"
      },
      "execution_count": null,
      "outputs": []
    }
  ]
}
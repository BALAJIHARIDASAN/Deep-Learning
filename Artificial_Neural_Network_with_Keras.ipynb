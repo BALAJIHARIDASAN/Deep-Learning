{
  "cells": [
    {
      "cell_type": "markdown",
      "metadata": {
        "colab_type": "text",
        "id": "view-in-github"
      },
      "source": [
        "<a href=\"https://colab.research.google.com/github/BALAJIHARIDASAN/Deep-Learning/blob/main/Artificial_Neural_Network_with_Keras.ipynb\" target=\"_parent\"><img src=\"https://colab.research.google.com/assets/colab-badge.svg\" alt=\"Open In Colab\"/></a>"
      ]
    },
    {
      "cell_type": "code",
      "execution_count": 91,
      "metadata": {
        "id": "65EJWPGm6492"
      },
      "outputs": [],
      "source": [
        "import os"
      ]
    },
    {
      "cell_type": "code",
      "execution_count": 92,
      "metadata": {
        "id": "gJTxJ4bE67A8"
      },
      "outputs": [],
      "source": [
        "\n",
        "import tensorflow as tf"
      ]
    },
    {
      "cell_type": "code",
      "execution_count": 93,
      "metadata": {
        "colab": {
          "base_uri": "https://localhost:8080/",
          "height": 36
        },
        "id": "cMBxVeus7DlN",
        "outputId": "d89c9704-eccb-4279-e388-b1655ff595f2"
      },
      "outputs": [
        {
          "data": {
            "application/vnd.google.colaboratory.intrinsic+json": {
              "type": "string"
            },
            "text/plain": [
              "'2.9.2'"
            ]
          },
          "execution_count": 93,
          "metadata": {},
          "output_type": "execute_result"
        }
      ],
      "source": [
        "tf.__version__"
      ]
    },
    {
      "cell_type": "code",
      "execution_count": 94,
      "metadata": {
        "colab": {
          "base_uri": "https://localhost:8080/",
          "height": 36
        },
        "id": "FuFEbrU07FUt",
        "outputId": "c4dc91a8-c0c0-4b20-ddaf-4ac45b8cb422"
      },
      "outputs": [
        {
          "data": {
            "application/vnd.google.colaboratory.intrinsic+json": {
              "type": "string"
            },
            "text/plain": [
              "'2.9.0'"
            ]
          },
          "execution_count": 94,
          "metadata": {},
          "output_type": "execute_result"
        }
      ],
      "source": [
        "\n",
        "tf.keras.__version__"
      ]
    },
    {
      "cell_type": "code",
      "execution_count": 95,
      "metadata": {
        "colab": {
          "base_uri": "https://localhost:8080/"
        },
        "id": "cDxh5eHz7Nx8",
        "outputId": "49952ba5-e63b-4a7d-a9b8-afa7a400147e"
      },
      "outputs": [
        {
          "data": {
            "text/plain": [
              "[PhysicalDevice(name='/physical_device:GPU:0', device_type='GPU')]"
            ]
          },
          "execution_count": 95,
          "metadata": {},
          "output_type": "execute_result"
        }
      ],
      "source": [
        "tf.config.list_physical_devices('GPU')"
      ]
    },
    {
      "cell_type": "code",
      "execution_count": 96,
      "metadata": {
        "id": "nKJv21tv7Rx9"
      },
      "outputs": [],
      "source": [
        "import numpy as np\n",
        "import matplotlib.pyplot as plt\n",
        "import pandas as pd"
      ]
    },
    {
      "cell_type": "code",
      "execution_count": 97,
      "metadata": {
        "id": "_WmdF6oc7mzc"
      },
      "outputs": [],
      "source": [
        "mnist = tf.keras.datasets.mnist"
      ]
    },
    {
      "cell_type": "code",
      "execution_count": 98,
      "metadata": {
        "id": "Fab627QF7wXM"
      },
      "outputs": [],
      "source": [
        "(X_train,y_train),(X_test,y_test) = mnist.load_data()"
      ]
    },
    {
      "cell_type": "code",
      "execution_count": 99,
      "metadata": {
        "colab": {
          "base_uri": "https://localhost:8080/"
        },
        "id": "Y2Z58xxn749M",
        "outputId": "b7e8b1ed-4f21-4ad9-8596-804c250820d6"
      },
      "outputs": [
        {
          "data": {
            "text/plain": [
              "((60000, 28, 28), dtype('uint8'))"
            ]
          },
          "execution_count": 99,
          "metadata": {},
          "output_type": "execute_result"
        }
      ],
      "source": [
        "X_train.shape,X_train.dtype"
      ]
    },
    {
      "cell_type": "code",
      "execution_count": 100,
      "metadata": {
        "colab": {
          "base_uri": "https://localhost:8080/"
        },
        "id": "dnBblqXt8FMs",
        "outputId": "8c0d9bbb-ff0c-4626-e313-431ab43bd57b"
      },
      "outputs": [
        {
          "data": {
            "text/plain": [
              "((10000, 28, 28), dtype('uint8'))"
            ]
          },
          "execution_count": 100,
          "metadata": {},
          "output_type": "execute_result"
        }
      ],
      "source": [
        "X_test.shape,X_test.dtype"
      ]
    },
    {
      "cell_type": "code",
      "execution_count": 101,
      "metadata": {
        "colab": {
          "base_uri": "https://localhost:8080/"
        },
        "id": "tfDyp9848Nx7",
        "outputId": "5fbc9998-629f-49fa-f63f-0814f9b329ee"
      },
      "outputs": [
        {
          "data": {
            "text/plain": [
              "((60000,), dtype('uint8'))"
            ]
          },
          "execution_count": 101,
          "metadata": {},
          "output_type": "execute_result"
        }
      ],
      "source": [
        "y_train.shape,y_train.dtype"
      ]
    },
    {
      "cell_type": "code",
      "execution_count": 102,
      "metadata": {
        "id": "5RTS1HhA8RD7"
      },
      "outputs": [],
      "source": [
        "X_valid,X_train = X_train[:5000]/255,X_train[5000:]/255\n"
      ]
    },
    {
      "cell_type": "code",
      "execution_count": 103,
      "metadata": {
        "id": "udwTExkb8ht8"
      },
      "outputs": [],
      "source": [
        "y_valid,y_train= y_train[:5000],y_train[5000:]"
      ]
    },
    {
      "cell_type": "code",
      "execution_count": 104,
      "metadata": {
        "id": "6pOnVTzE8sla"
      },
      "outputs": [],
      "source": [
        "X_test = X_test/255"
      ]
    },
    {
      "cell_type": "code",
      "execution_count": 139,
      "metadata": {
        "colab": {
          "base_uri": "https://localhost:8080/",
          "height": 265
        },
        "id": "YGSY7AJk83Lr",
        "outputId": "504b0a81-e01e-478f-dc29-420ad1c77e47"
      },
      "outputs": [
        {
          "data": {
            "image/png": "[encoded data removed]",
            "text/plain": [
              "<Figure size 432x288 with 1 Axes>"
            ]
          },
          "metadata": {
            "needs_background": "light"
          },
          "output_type": "display_data"
        }
      ],
      "source": [
        "plt.imshow(X_train[5],cmap = 'binary')\n",
        "plt.show()"
      ]
    },
    {
      "cell_type": "code",
      "execution_count": 140,
      "metadata": {
        "colab": {
          "base_uri": "https://localhost:8080/",
          "height": 867
        },
        "id": "tS3Ifnaw8_2r",
        "outputId": "05289e4c-7e2c-4322-a31d-82addfb89f9f"
      },
      "outputs": [
        {
          "data": {
            "image/png": "[encoded data removed]",
            "text/plain": [
              "<Figure size 1080x1080 with 2 Axes>"
            ]
          },
          "metadata": {
            "needs_background": "light"
          },
          "output_type": "display_data"
        }
      ],
      "source": [
        "import seaborn as sns\n",
        "plt.figure(figsize = (15,15))\n",
        "sns.heatmap(X_train[5],annot = True)\n",
        "plt.show()"
      ]
    },
    {
      "cell_type": "code",
      "execution_count": 107,
      "metadata": {
        "id": "IFgLwi6p9KM6"
      },
      "outputs": [],
      "source": [
        "# simple Ann Model \n",
        "\n",
        "from tensorflow.keras.layers import Dense,Flatten\n",
        "from tensorflow.keras.models import Sequential"
      ]
    },
    {
      "cell_type": "code",
      "execution_count": 108,
      "metadata": {
        "colab": {
          "base_uri": "https://localhost:8080/"
        },
        "id": "uHk7BAWc99TK",
        "outputId": "09d5e91d-74c8-4361-82da-8b2bb934c9c0"
      },
      "outputs": [
        {
          "name": "stdout",
          "output_type": "stream",
          "text": [
            "Model: \"sequential_8\"\n",
            "_________________________________________________________________\n",
            " Layer (type)                Output Shape              Param #   \n",
            "=================================================================\n",
            " flatten_4 (Flatten)         (None, 784)               0         \n",
            "                                                                 \n",
            " dense_9 (Dense)             (None, 300)               235500    \n",
            "                                                                 \n",
            " dense_10 (Dense)            (None, 100)               30100     \n",
            "                                                                 \n",
            " dense_11 (Dense)            (None, 10)                1010      \n",
            "                                                                 \n",
            "=================================================================\n",
            "Total params: 266,610\n",
            "Trainable params: 266,610\n",
            "Non-trainable params: 0\n",
            "_________________________________________________________________\n"
          ]
        }
      ],
      "source": [
        "model = Sequential()\n",
        "model.add(Flatten(input_shape = [28,28]))\n",
        "model.add(Dense(300,activation = 'relu'))\n",
        "model.add(Dense(100,activation = 'relu'))\n",
        "model.add(Dense(10,activation = 'softmax'))\n",
        "model.summary()"
      ]
    },
    {
      "cell_type": "code",
      "execution_count": 109,
      "metadata": {
        "colab": {
          "base_uri": "https://localhost:8080/"
        },
        "id": "h0JQQjvoA02m",
        "outputId": "2aa6ee46-9d1a-4360-93c7-c6027ccf6f9a"
      },
      "outputs": [
        {
          "data": {
            "text/plain": [
              "(235500, 30100, 1010)"
            ]
          },
          "execution_count": 109,
          "metadata": {},
          "output_type": "execute_result"
        }
      ],
      "source": [
        "784*300+300,300*100+100,100*10+10"
      ]
    },
    {
      "cell_type": "code",
      "execution_count": 110,
      "metadata": {
        "colab": {
          "base_uri": "https://localhost:8080/"
        },
        "id": "jxKopL9iA6VJ",
        "outputId": "c590992d-7364-409a-b44d-d6f842eb1c09"
      },
      "outputs": [
        {
          "data": {
            "text/plain": [
              "266610"
            ]
          },
          "execution_count": 110,
          "metadata": {},
          "output_type": "execute_result"
        }
      ],
      "source": [
        "235500+30100+1010\n"
      ]
    },
    {
      "cell_type": "code",
      "execution_count": 111,
      "metadata": {
        "colab": {
          "base_uri": "https://localhost:8080/"
        },
        "id": "lY5BXF_J_Xtp",
        "outputId": "01b822b3-7b92-4dd1-b32f-bcc9882c3e07"
      },
      "outputs": [
        {
          "data": {
            "text/plain": [
              "[<keras.layers.reshaping.flatten.Flatten at 0x7fba6b0f3f70>,\n",
              " <keras.layers.core.dense.Dense at 0x7fba51e62df0>,\n",
              " <keras.layers.core.dense.Dense at 0x7fba51d77310>,\n",
              " <keras.layers.core.dense.Dense at 0x7fba51eb5280>]"
            ]
          },
          "execution_count": 111,
          "metadata": {},
          "output_type": "execute_result"
        }
      ],
      "source": [
        "model.layers"
      ]
    },
    {
      "cell_type": "code",
      "execution_count": 112,
      "metadata": {
        "colab": {
          "base_uri": "https://localhost:8080/"
        },
        "id": "iBiZB-8YAVcn",
        "outputId": "69c821e2-abb5-424d-c4f2-c3cec196511c"
      },
      "outputs": [
        {
          "data": {
            "text/plain": [
              "[<KerasTensor: shape=(None, 28, 28) dtype=float32 (created by layer 'flatten_4_input')>]"
            ]
          },
          "execution_count": 112,
          "metadata": {},
          "output_type": "execute_result"
        }
      ],
      "source": [
        "model.inputs"
      ]
    },
    {
      "cell_type": "code",
      "execution_count": 113,
      "metadata": {
        "colab": {
          "base_uri": "https://localhost:8080/"
        },
        "id": "wOb9ERHRAWm3",
        "outputId": "d695de7c-c8a4-4449-a111-4fb9c4fc4198"
      },
      "outputs": [
        {
          "data": {
            "text/plain": [
              "[<KerasTensor: shape=(None, 10) dtype=float32 (created by layer 'dense_11')>]"
            ]
          },
          "execution_count": 113,
          "metadata": {},
          "output_type": "execute_result"
        }
      ],
      "source": [
        "model.outputs"
      ]
    },
    {
      "cell_type": "code",
      "execution_count": 140,
      "metadata": {
        "id": "nH_eGHIeAX33"
      },
      "outputs": [],
      "source": []
    },
    {
      "cell_type": "code",
      "execution_count": 121,
      "metadata": {
        "id": "Jt-h9bruBIlI"
      },
      "outputs": [],
      "source": [
        "LOSS_FUNCTION = 'sparse_categorical_crossentropy'\n",
        "OPTIMIZERS = 'SGD'\n",
        "METRICS = ['accuracy']"
      ]
    },
    {
      "cell_type": "code",
      "execution_count": 122,
      "metadata": {
        "id": "IN3NJzPLBbIH"
      },
      "outputs": [],
      "source": [
        "from tensorflow._api.v2.config import optimizer\n",
        "model.compile(loss = LOSS_FUNCTION,optimizer= OPTIMIZERS,metrics = METRICS)\n"
      ]
    },
    {
      "cell_type": "code",
      "execution_count": 123,
      "metadata": {
        "colab": {
          "base_uri": "https://localhost:8080/"
        },
        "id": "8AyO4UixCAR-",
        "outputId": "f600c24e-4724-4b94-d41f-769d99722517"
      },
      "outputs": [
        {
          "name": "stdout",
          "output_type": "stream",
          "text": [
            "Epoch 1/20\n",
            "1719/1719 [==============================] - 7s 3ms/step - loss: 0.6084 - accuracy: 0.8415 - val_loss: 0.3119 - val_accuracy: 0.9096\n",
            "Epoch 2/20\n",
            "1719/1719 [==============================] - 5s 3ms/step - loss: 0.2911 - accuracy: 0.9165 - val_loss: 0.2399 - val_accuracy: 0.9352\n",
            "Epoch 3/20\n",
            "1719/1719 [==============================] - 5s 3ms/step - loss: 0.2362 - accuracy: 0.9323 - val_loss: 0.2057 - val_accuracy: 0.9446\n",
            "Epoch 4/20\n",
            "1719/1719 [==============================] - 6s 4ms/step - loss: 0.2013 - accuracy: 0.9427 - val_loss: 0.1778 - val_accuracy: 0.9532\n",
            "Epoch 5/20\n",
            "1719/1719 [==============================] - 5s 3ms/step - loss: 0.1754 - accuracy: 0.9495 - val_loss: 0.1605 - val_accuracy: 0.9570\n",
            "Epoch 6/20\n",
            "1719/1719 [==============================] - 5s 3ms/step - loss: 0.1560 - accuracy: 0.9549 - val_loss: 0.1476 - val_accuracy: 0.9576\n",
            "Epoch 7/20\n",
            "1719/1719 [==============================] - 6s 3ms/step - loss: 0.1398 - accuracy: 0.9598 - val_loss: 0.1312 - val_accuracy: 0.9646\n",
            "Epoch 8/20\n",
            "1719/1719 [==============================] - 5s 3ms/step - loss: 0.1261 - accuracy: 0.9641 - val_loss: 0.1231 - val_accuracy: 0.9662\n",
            "Epoch 9/20\n",
            "1719/1719 [==============================] - 5s 3ms/step - loss: 0.1143 - accuracy: 0.9670 - val_loss: 0.1147 - val_accuracy: 0.9696\n",
            "Epoch 10/20\n",
            "1719/1719 [==============================] - 5s 3ms/step - loss: 0.1044 - accuracy: 0.9700 - val_loss: 0.1089 - val_accuracy: 0.9700\n",
            "Epoch 11/20\n",
            "1719/1719 [==============================] - 5s 3ms/step - loss: 0.0960 - accuracy: 0.9732 - val_loss: 0.1038 - val_accuracy: 0.9718\n",
            "Epoch 12/20\n",
            "1719/1719 [==============================] - 6s 4ms/step - loss: 0.0884 - accuracy: 0.9753 - val_loss: 0.0973 - val_accuracy: 0.9732\n",
            "Epoch 13/20\n",
            "1719/1719 [==============================] - 9s 5ms/step - loss: 0.0818 - accuracy: 0.9771 - val_loss: 0.0947 - val_accuracy: 0.9742\n",
            "Epoch 14/20\n",
            "1719/1719 [==============================] - 7s 4ms/step - loss: 0.0759 - accuracy: 0.9792 - val_loss: 0.0901 - val_accuracy: 0.9750\n",
            "Epoch 15/20\n",
            "1719/1719 [==============================] - 8s 5ms/step - loss: 0.0702 - accuracy: 0.9805 - val_loss: 0.0861 - val_accuracy: 0.9766\n",
            "Epoch 16/20\n",
            "1719/1719 [==============================] - 8s 5ms/step - loss: 0.0653 - accuracy: 0.9818 - val_loss: 0.0861 - val_accuracy: 0.9766\n",
            "Epoch 17/20\n",
            "1719/1719 [==============================] - 9s 5ms/step - loss: 0.0610 - accuracy: 0.9835 - val_loss: 0.0842 - val_accuracy: 0.9752\n",
            "Epoch 18/20\n",
            "1719/1719 [==============================] - 7s 4ms/step - loss: 0.0570 - accuracy: 0.9846 - val_loss: 0.0812 - val_accuracy: 0.9788\n",
            "Epoch 19/20\n",
            "1719/1719 [==============================] - 7s 4ms/step - loss: 0.0533 - accuracy: 0.9856 - val_loss: 0.0797 - val_accuracy: 0.9782\n",
            "Epoch 20/20\n",
            "1719/1719 [==============================] - 7s 4ms/step - loss: 0.0503 - accuracy: 0.9863 - val_loss: 0.0776 - val_accuracy: 0.9786\n"
          ]
        }
      ],
      "source": [
        "EPOCHS = 20\n",
        "VALIDATION_SET= (X_valid,y_valid)\n",
        "\n",
        "history = model.fit(X_train,y_train,epochs = EPOCHS,validation_data = VALIDATION_SET)"
      ]
    },
    {
      "cell_type": "code",
      "execution_count": 124,
      "metadata": {
        "colab": {
          "base_uri": "https://localhost:8080/"
        },
        "id": "6ZrTTvI4CeGs",
        "outputId": "b7695edb-ef29-479e-e961-afe69d651e68"
      },
      "outputs": [
        {
          "name": "stdout",
          "output_type": "stream",
          "text": [
            "313/313 [==============================] - 1s 2ms/step - loss: 0.0814 - accuracy: 0.9761\n"
          ]
        },
        {
          "data": {
            "text/plain": [
              "[0.08140511810779572, 0.9761000275611877]"
            ]
          },
          "execution_count": 124,
          "metadata": {},
          "output_type": "execute_result"
        }
      ],
      "source": [
        "model.evaluate(X_test,y_test)"
      ]
    },
    {
      "cell_type": "code",
      "execution_count": 125,
      "metadata": {
        "colab": {
          "base_uri": "https://localhost:8080/",
          "height": 676
        },
        "id": "QUEv_67KEMM_",
        "outputId": "de140fc7-16c3-4fd2-8ab0-9048ecc54a9f"
      },
      "outputs": [
        {
          "data": {
            "text/html": [
              "\n",
              "  <div id=\"df-54fa3df6-f96e-4da8-9630-1dcac8843531\">\n",
              "    <div class=\"colab-df-container\">\n",
              "      <div>\n",
              "<style scoped>\n",
              "    .dataframe tbody tr th:only-of-type {\n",
              "        vertical-align: middle;\n",
              "    }\n",
              "\n",
              "    .dataframe tbody tr th {\n",
              "        vertical-align: top;\n",
              "    }\n",
              "\n",
              "    .dataframe thead th {\n",
              "        text-align: right;\n",
              "    }\n",
              "</style>\n",
              "<table border=\"1\" class=\"dataframe\">\n",
              "  <thead>\n",
              "    <tr style=\"text-align: right;\">\n",
              "      <th></th>\n",
              "      <th>loss</th>\n",
              "      <th>accuracy</th>\n",
              "      <th>val_loss</th>\n",
              "      <th>val_accuracy</th>\n",
              "    </tr>\n",
              "  </thead>\n",
              "  <tbody>\n",
              "    <tr>\n",
              "      <th>0</th>\n",
              "      <td>0.608379</td>\n",
              "      <td>0.841473</td>\n",
              "      <td>0.311917</td>\n",
              "      <td>0.9096</td>\n",
              "    </tr>\n",
              "    <tr>\n",
              "      <th>1</th>\n",
              "      <td>0.291091</td>\n",
              "      <td>0.916455</td>\n",
              "      <td>0.239858</td>\n",
              "      <td>0.9352</td>\n",
              "    </tr>\n",
              "    <tr>\n",
              "      <th>2</th>\n",
              "      <td>0.236173</td>\n",
              "      <td>0.932309</td>\n",
              "      <td>0.205739</td>\n",
              "      <td>0.9446</td>\n",
              "    </tr>\n",
              "    <tr>\n",
              "      <th>3</th>\n",
              "      <td>0.201288</td>\n",
              "      <td>0.942655</td>\n",
              "      <td>0.177800</td>\n",
              "      <td>0.9532</td>\n",
              "    </tr>\n",
              "    <tr>\n",
              "      <th>4</th>\n",
              "      <td>0.175381</td>\n",
              "      <td>0.949527</td>\n",
              "      <td>0.160458</td>\n",
              "      <td>0.9570</td>\n",
              "    </tr>\n",
              "    <tr>\n",
              "      <th>5</th>\n",
              "      <td>0.156000</td>\n",
              "      <td>0.954891</td>\n",
              "      <td>0.147645</td>\n",
              "      <td>0.9576</td>\n",
              "    </tr>\n",
              "    <tr>\n",
              "      <th>6</th>\n",
              "      <td>0.139840</td>\n",
              "      <td>0.959836</td>\n",
              "      <td>0.131195</td>\n",
              "      <td>0.9646</td>\n",
              "    </tr>\n",
              "    <tr>\n",
              "      <th>7</th>\n",
              "      <td>0.126124</td>\n",
              "      <td>0.964145</td>\n",
              "      <td>0.123143</td>\n",
              "      <td>0.9662</td>\n",
              "    </tr>\n",
              "    <tr>\n",
              "      <th>8</th>\n",
              "      <td>0.114302</td>\n",
              "      <td>0.967000</td>\n",
              "      <td>0.114702</td>\n",
              "      <td>0.9696</td>\n",
              "    </tr>\n",
              "    <tr>\n",
              "      <th>9</th>\n",
              "      <td>0.104432</td>\n",
              "      <td>0.970036</td>\n",
              "      <td>0.108927</td>\n",
              "      <td>0.9700</td>\n",
              "    </tr>\n",
              "    <tr>\n",
              "      <th>10</th>\n",
              "      <td>0.095979</td>\n",
              "      <td>0.973218</td>\n",
              "      <td>0.103784</td>\n",
              "      <td>0.9718</td>\n",
              "    </tr>\n",
              "    <tr>\n",
              "      <th>11</th>\n",
              "      <td>0.088369</td>\n",
              "      <td>0.975291</td>\n",
              "      <td>0.097271</td>\n",
              "      <td>0.9732</td>\n",
              "    </tr>\n",
              "    <tr>\n",
              "      <th>12</th>\n",
              "      <td>0.081756</td>\n",
              "      <td>0.977073</td>\n",
              "      <td>0.094696</td>\n",
              "      <td>0.9742</td>\n",
              "    </tr>\n",
              "    <tr>\n",
              "      <th>13</th>\n",
              "      <td>0.075864</td>\n",
              "      <td>0.979164</td>\n",
              "      <td>0.090071</td>\n",
              "      <td>0.9750</td>\n",
              "    </tr>\n",
              "    <tr>\n",
              "      <th>14</th>\n",
              "      <td>0.070230</td>\n",
              "      <td>0.980455</td>\n",
              "      <td>0.086099</td>\n",
              "      <td>0.9766</td>\n",
              "    </tr>\n",
              "    <tr>\n",
              "      <th>15</th>\n",
              "      <td>0.065346</td>\n",
              "      <td>0.981782</td>\n",
              "      <td>0.086138</td>\n",
              "      <td>0.9766</td>\n",
              "    </tr>\n",
              "    <tr>\n",
              "      <th>16</th>\n",
              "      <td>0.061010</td>\n",
              "      <td>0.983473</td>\n",
              "      <td>0.084163</td>\n",
              "      <td>0.9752</td>\n",
              "    </tr>\n",
              "    <tr>\n",
              "      <th>17</th>\n",
              "      <td>0.057000</td>\n",
              "      <td>0.984618</td>\n",
              "      <td>0.081219</td>\n",
              "      <td>0.9788</td>\n",
              "    </tr>\n",
              "    <tr>\n",
              "      <th>18</th>\n",
              "      <td>0.053287</td>\n",
              "      <td>0.985600</td>\n",
              "      <td>0.079656</td>\n",
              "      <td>0.9782</td>\n",
              "    </tr>\n",
              "    <tr>\n",
              "      <th>19</th>\n",
              "      <td>0.050258</td>\n",
              "      <td>0.986255</td>\n",
              "      <td>0.077609</td>\n",
              "      <td>0.9786</td>\n",
              "    </tr>\n",
              "  </tbody>\n",
              "</table>\n",
              "</div>\n",
              "      <button class=\"colab-df-convert\" onclick=\"convertToInteractive('df-54fa3df6-f96e-4da8-9630-1dcac8843531')\"\n",
              "              title=\"Convert this dataframe to an interactive table.\"\n",
              "              style=\"display:none;\">\n",
              "        \n",
              "  <svg xmlns=\"http://www.w3.org/2000/svg\" height=\"24px\"viewBox=\"0 0 24 24\"\n",
              "       width=\"24px\">\n",
              "    <path d=\"M0 0h24v24H0V0z\" fill=\"none\"/>\n",
              "    <path d=\"M18.56 5.44l.94 2.06.94-2.06 2.06-.94-2.06-.94-.94-2.06-.94 2.06-2.06.94zm-11 1L8.5 8.5l.94-2.06 2.06-.94-2.06-.94L8.5 2.5l-.94 2.06-2.06.94zm10 10l.94 2.06.94-2.06 2.06-.94-2.06-.94-.94-2.06-.94 2.06-2.06.94z\"/><path d=\"M17.41 7.96l-1.37-1.37c-.4-.4-.92-.59-1.43-.59-.52 0-1.04.2-1.43.59L10.3 9.45l-7.72 7.72c-.78.78-.78 2.05 0 2.83L4 21.41c.39.39.9.59 1.41.59.51 0 1.02-.2 1.41-.59l7.78-7.78 2.81-2.81c.8-.78.8-2.07 0-2.86zM5.41 20L4 18.59l7.72-7.72 1.47 1.35L5.41 20z\"/>\n",
              "  </svg>\n",
              "      </button>\n",
              "      \n",
              "  <style>\n",
              "    .colab-df-container {\n",
              "      display:flex;\n",
              "      flex-wrap:wrap;\n",
              "      gap: 12px;\n",
              "    }\n",
              "\n",
              "    .colab-df-convert {\n",
              "      background-color: #E8F0FE;\n",
              "      border: none;\n",
              "      border-radius: 50%;\n",
              "      cursor: pointer;\n",
              "      display: none;\n",
              "      fill: #1967D2;\n",
              "      height: 32px;\n",
              "      padding: 0 0 0 0;\n",
              "      width: 32px;\n",
              "    }\n",
              "\n",
              "    .colab-df-convert:hover {\n",
              "      background-color: #E2EBFA;\n",
              "      box-shadow: 0px 1px 2px rgba(60, 64, 67, 0.3), 0px 1px 3px 1px rgba(60, 64, 67, 0.15);\n",
              "      fill: #174EA6;\n",
              "    }\n",
              "\n",
              "    [theme=dark] .colab-df-convert {\n",
              "      background-color: #3B4455;\n",
              "      fill: #D2E3FC;\n",
              "    }\n",
              "\n",
              "    [theme=dark] .colab-df-convert:hover {\n",
              "      background-color: #434B5C;\n",
              "      box-shadow: 0px 1px 3px 1px rgba(0, 0, 0, 0.15);\n",
              "      filter: drop-shadow(0px 1px 2px rgba(0, 0, 0, 0.3));\n",
              "      fill: #FFFFFF;\n",
              "    }\n",
              "  </style>\n",
              "\n",
              "      <script>\n",
              "        const buttonEl =\n",
              "          document.querySelector('#df-54fa3df6-f96e-4da8-9630-1dcac8843531 button.colab-df-convert');\n",
              "        buttonEl.style.display =\n",
              "          google.colab.kernel.accessAllowed ? 'block' : 'none';\n",
              "\n",
              "        async function convertToInteractive(key) {\n",
              "          const element = document.querySelector('#df-54fa3df6-f96e-4da8-9630-1dcac8843531');\n",
              "          const dataTable =\n",
              "            await google.colab.kernel.invokeFunction('convertToInteractive',\n",
              "                                                     [key], {});\n",
              "          if (!dataTable) return;\n",
              "\n",
              "          const docLinkHtml = 'Like what you see? Visit the ' +\n",
              "            '<a target=\"_blank\" href=https://colab.research.google.com/notebooks/data_table.ipynb>data table notebook</a>'\n",
              "            + ' to learn more about interactive tables.';\n",
              "          element.innerHTML = '';\n",
              "          dataTable['output_type'] = 'display_data';\n",
              "          await google.colab.output.renderOutput(dataTable, element);\n",
              "          const docLink = document.createElement('div');\n",
              "          docLink.innerHTML = docLinkHtml;\n",
              "          element.appendChild(docLink);\n",
              "        }\n",
              "      </script>\n",
              "    </div>\n",
              "  </div>\n",
              "  "
            ],
            "text/plain": [
              "        loss  accuracy  val_loss  val_accuracy\n",
              "0   0.608379  0.841473  0.311917        0.9096\n",
              "1   0.291091  0.916455  0.239858        0.9352\n",
              "2   0.236173  0.932309  0.205739        0.9446\n",
              "3   0.201288  0.942655  0.177800        0.9532\n",
              "4   0.175381  0.949527  0.160458        0.9570\n",
              "5   0.156000  0.954891  0.147645        0.9576\n",
              "6   0.139840  0.959836  0.131195        0.9646\n",
              "7   0.126124  0.964145  0.123143        0.9662\n",
              "8   0.114302  0.967000  0.114702        0.9696\n",
              "9   0.104432  0.970036  0.108927        0.9700\n",
              "10  0.095979  0.973218  0.103784        0.9718\n",
              "11  0.088369  0.975291  0.097271        0.9732\n",
              "12  0.081756  0.977073  0.094696        0.9742\n",
              "13  0.075864  0.979164  0.090071        0.9750\n",
              "14  0.070230  0.980455  0.086099        0.9766\n",
              "15  0.065346  0.981782  0.086138        0.9766\n",
              "16  0.061010  0.983473  0.084163        0.9752\n",
              "17  0.057000  0.984618  0.081219        0.9788\n",
              "18  0.053287  0.985600  0.079656        0.9782\n",
              "19  0.050258  0.986255  0.077609        0.9786"
            ]
          },
          "execution_count": 125,
          "metadata": {},
          "output_type": "execute_result"
        }
      ],
      "source": [
        "pd.DataFrame(history.history)"
      ]
    },
    {
      "cell_type": "code",
      "execution_count": 126,
      "metadata": {
        "colab": {
          "base_uri": "https://localhost:8080/",
          "height": 324
        },
        "id": "IKm1RLn1Ead9",
        "outputId": "cb0fdd5b-d1b0-431c-9fe0-23b362bbd4f3"
      },
      "outputs": [
        {
          "data": {
            "image/png": "[encoded data removed]",
            "text/plain": [
              "<Figure size 576x360 with 1 Axes>"
            ]
          },
          "metadata": {
            "needs_background": "light"
          },
          "output_type": "display_data"
        }
      ],
      "source": [
        "pd.DataFrame(history.history).plot(figsize= (8,5))\n",
        "plt.grid(True)\n",
        "plt.gca().set_ylim(0,1)\n",
        "plt.show()"
      ]
    },
    {
      "cell_type": "code",
      "execution_count": 133,
      "metadata": {
        "id": "u73NSP_3EndU"
      },
      "outputs": [],
      "source": [
        "X_new = X_test[5:8]"
      ]
    },
    {
      "cell_type": "code",
      "execution_count": 134,
      "metadata": {
        "id": "UvZfTrW1EwQU"
      },
      "outputs": [],
      "source": [
        "y_new = y_test[5:8]\n"
      ]
    },
    {
      "cell_type": "code",
      "execution_count": 135,
      "metadata": {
        "colab": {
          "base_uri": "https://localhost:8080/"
        },
        "id": "9xsfY_4HEyqT",
        "outputId": "dcb7f568-92e5-463a-8cce-bb0cf97ef41a"
      },
      "outputs": [
        {
          "name": "stdout",
          "output_type": "stream",
          "text": [
            "1/1 [==============================] - 0s 15ms/step\n"
          ]
        }
      ],
      "source": [
        "y_proba = model.predict(X_new)"
      ]
    },
    {
      "cell_type": "code",
      "execution_count": 136,
      "metadata": {
        "colab": {
          "base_uri": "https://localhost:8080/"
        },
        "id": "4ZbIMLKAE1xU",
        "outputId": "4ebc59b0-497b-4def-cc12-35c8ff3e2efe"
      },
      "outputs": [
        {
          "data": {
            "text/plain": [
              "array([[0.  , 1.  , 0.  , 0.  , 0.  , 0.  , 0.  , 0.  , 0.  , 0.  ],\n",
              "       [0.  , 0.  , 0.  , 0.  , 1.  , 0.  , 0.  , 0.  , 0.  , 0.  ],\n",
              "       [0.  , 0.  , 0.  , 0.  , 0.  , 0.  , 0.  , 0.  , 0.  , 0.99]],\n",
              "      dtype=float32)"
            ]
          },
          "execution_count": 136,
          "metadata": {},
          "output_type": "execute_result"
        }
      ],
      "source": [
        "y_proba.round(2)"
      ]
    },
    {
      "cell_type": "code",
      "execution_count": 137,
      "metadata": {
        "colab": {
          "base_uri": "https://localhost:8080/"
        },
        "id": "QqzSaFl7E4gE",
        "outputId": "47b0dff7-acbc-4d02-e233-2719a1d51360"
      },
      "outputs": [
        {
          "data": {
            "text/plain": [
              "(array([1, 4, 9]), array([1, 4, 9], dtype=uint8))"
            ]
          },
          "execution_count": 137,
          "metadata": {},
          "output_type": "execute_result"
        }
      ],
      "source": [
        "y_pred = np.argmax(y_proba,axis =1)\n",
        "y_pred,y_new"
      ]
    },
    {
      "cell_type": "code",
      "execution_count": 138,
      "metadata": {
        "colab": {
          "base_uri": "https://localhost:8080/",
          "height": 813
        },
        "id": "AJatA-NNFAbE",
        "outputId": "8e753be3-c247-4856-88dc-1d10e561d61c"
      },
      "outputs": [
        {
          "data": {
            "image/png": "[encoded data removed]",
            "text/plain": [
              "<Figure size 432x288 with 1 Axes>"
            ]
          },
          "metadata": {
            "needs_background": "light"
          },
          "output_type": "display_data"
        },
        {
          "name": "stdout",
          "output_type": "stream",
          "text": [
            "------------\n"
          ]
        },
        {
          "data": {
            "image/png": "[encoded data removed]",
            "text/plain": [
              "<Figure size 432x288 with 1 Axes>"
            ]
          },
          "metadata": {
            "needs_background": "light"
          },
          "output_type": "display_data"
        },
        {
          "name": "stdout",
          "output_type": "stream",
          "text": [
            "------------\n"
          ]
        },
        {
          "data": {
            "image/png": "[encoded data removed]",
            "text/plain": [
              "<Figure size 432x288 with 1 Axes>"
            ]
          },
          "metadata": {
            "needs_background": "light"
          },
          "output_type": "display_data"
        },
        {
          "name": "stdout",
          "output_type": "stream",
          "text": [
            "------------\n"
          ]
        }
      ],
      "source": [
        "for data,pred,actual in zip(X_new,y_pred,y_new):\n",
        "  plt.imshow(data,cmap = 'binary')\n",
        "  plt.title(f'predicted:{pred},Actual : {actual}')\n",
        "  plt.axis('off')\n",
        "  plt.show()\n",
        "  print('---'*4)"
      ]
    },
    {
      "cell_type": "code",
      "execution_count": null,
      "metadata": {
        "id": "rMQyamUvFf40"
      },
      "outputs": [],
      "source": []
    }
  ],
  "metadata": {
    "accelerator": "GPU",
    "colab": {
      "authorship_tag": "ABX9TyNn6J6fnPTlu6TSZrHGXv53",
      "include_colab_link": true,
      "provenance": []
    },
    "gpuClass": "standard",
    "kernelspec": {
      "display_name": "Python 3",
      "name": "python3"
    },
    "language_info": {
      "name": "python"
    }
  },
  "nbformat": 4,
  "nbformat_minor": 0
}
